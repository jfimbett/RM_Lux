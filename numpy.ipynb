{
  "cells": [
    {
      "cell_type": "markdown",
      "metadata": {
        "id": "view-in-github",
        "colab_type": "text"
      },
      "source": [
        "<a href=\"https://colab.research.google.com/github/jfimbett/RM_Lux/blob/main/numpy.ipynb\" target=\"_parent\"><img src=\"https://colab.research.google.com/assets/colab-badge.svg\" alt=\"Open In Colab\"/></a>"
      ]
    },
    {
      "cell_type": "markdown",
      "source": [
        "# Numpy - Numerical Python"
      ],
      "metadata": {
        "id": "OogQ1iwYLRuo"
      }
    },
    {
      "cell_type": "markdown",
      "source": [
        "## Advanced mathematical operations while preserving high performance. "
      ],
      "metadata": {
        "id": "0el2VMW5LRup"
      }
    },
    {
      "cell_type": "markdown",
      "source": [
        "## Why numpy?\n",
        "\n",
        "1. Efficient storage compared to vanilla Python **lists**\n",
        "2. Faster operations\n",
        "3. Creation of $n$ dimensional arrays\n",
        "3. Random number generation\n",
        "4. Most of numpy's code is efficiently written in C"
      ],
      "metadata": {
        "id": "QfCkRN_aLRup"
      }
    },
    {
      "cell_type": "markdown",
      "source": [
        "## Installation from jupyter (Anaconda should come with it installed)\n",
        "`!pip install numpy`\n",
        "\n",
        "or type `pip install numpy` in the Anaconda prompt."
      ],
      "metadata": {
        "id": "bo5hqmseLRuq"
      }
    },
    {
      "cell_type": "code",
      "execution_count": null,
      "source": [
        "#!pip install numpy "
      ],
      "outputs": [],
      "metadata": {
        "id": "CeXFktVsLRuq"
      }
    },
    {
      "cell_type": "code",
      "execution_count": null,
      "source": [
        "import numpy as np \n",
        "\n",
        "np.__version__"
      ],
      "outputs": [
        {
          "output_type": "execute_result",
          "data": {
            "text/plain": [
              "'1.20.1'"
            ]
          },
          "metadata": {},
          "execution_count": 2
        }
      ],
      "metadata": {
        "id": "5fxKm9lWLRur",
        "outputId": "3bb095f9-5c89-42e2-c96b-589fdd6ac74a"
      }
    },
    {
      "cell_type": "markdown",
      "source": [
        "## From Python Arrays to Numpy Arrays"
      ],
      "metadata": {
        "id": "r_a2ZZlMLRur"
      }
    },
    {
      "cell_type": "code",
      "execution_count": null,
      "source": [
        "nparray = np.array([1,2,3])\n",
        "nparray.dtype # What type of array is? Array of 32 bit Integers"
      ],
      "outputs": [
        {
          "output_type": "execute_result",
          "data": {
            "text/plain": [
              "dtype('int32')"
            ]
          },
          "metadata": {},
          "execution_count": 3
        }
      ],
      "metadata": {
        "id": "f7CCylqeLRur",
        "outputId": "b555a212-6036-4345-b431-54ec224434f7"
      }
    },
    {
      "cell_type": "code",
      "execution_count": null,
      "source": [
        "nparray.size # Length of the array, "
      ],
      "outputs": [
        {
          "output_type": "execute_result",
          "data": {
            "text/plain": [
              "3"
            ]
          },
          "metadata": {},
          "execution_count": 4
        }
      ],
      "metadata": {
        "id": "djmIqwf6LRus",
        "outputId": "feee8d46-0c8e-4369-87a9-5a855ab0270d"
      }
    },
    {
      "cell_type": "code",
      "execution_count": null,
      "source": [
        "nparray.shape # Shape"
      ],
      "outputs": [
        {
          "output_type": "execute_result",
          "data": {
            "text/plain": [
              "(3,)"
            ]
          },
          "metadata": {},
          "execution_count": 10
        }
      ],
      "metadata": {
        "id": "MB8yLfx3LRus",
        "outputId": "12bcdc91-9ddd-4b63-cbcc-dd0695d260af"
      }
    },
    {
      "cell_type": "code",
      "execution_count": null,
      "source": [
        "nparray.itemsize # How much memory in bytes (8bits) is each element taking, 4 bytes = 32 bits"
      ],
      "outputs": [
        {
          "output_type": "execute_result",
          "data": {
            "text/plain": [
              "4"
            ]
          },
          "metadata": {},
          "execution_count": 12
        }
      ],
      "metadata": {
        "id": "_kmrsh-jLRut",
        "outputId": "58c1516d-1f91-49b0-829a-6401cac86392"
      }
    },
    {
      "cell_type": "code",
      "execution_count": null,
      "source": [
        "nparray.nbytes # How much memory in bytes (8 bits) is taking the entire array"
      ],
      "outputs": [
        {
          "output_type": "execute_result",
          "data": {
            "text/plain": [
              "12"
            ]
          },
          "metadata": {},
          "execution_count": 14
        }
      ],
      "metadata": {
        "id": "ZHD5zqPvLRut",
        "outputId": "13f4f076-1338-4bff-e7fa-7733eea7db4e"
      }
    },
    {
      "cell_type": "markdown",
      "source": [
        "## Is NumPy faster?\n",
        "\n",
        "%timeit provides a wrapper to compare the performance of small pieces of code "
      ],
      "metadata": {
        "id": "UgdeOu9hLRut"
      }
    },
    {
      "cell_type": "code",
      "execution_count": null,
      "source": [
        "%timeit pythonList = [i for i in range(10000)]"
      ],
      "outputs": [
        {
          "output_type": "stream",
          "name": "stdout",
          "text": [
            "225 µs ± 1.01 µs per loop (mean ± std. dev. of 7 runs, 1000 loops each)\n"
          ]
        }
      ],
      "metadata": {
        "id": "d-FZxS2fLRut",
        "outputId": "0aa41393-0eff-4b85-b9f0-e4c5e87d9e3d"
      }
    },
    {
      "cell_type": "code",
      "execution_count": null,
      "source": [
        "%timeit npList = np.arange(10000)"
      ],
      "outputs": [
        {
          "output_type": "stream",
          "name": "stdout",
          "text": [
            "4.23 µs ± 19 ns per loop (mean ± std. dev. of 7 runs, 100000 loops each)\n"
          ]
        }
      ],
      "metadata": {
        "id": "l3vlKdb6LRuu",
        "outputId": "30d9d9c9-2d55-4bfd-ccc6-aca2b2df2391"
      }
    },
    {
      "cell_type": "markdown",
      "source": [
        "## Constructors"
      ],
      "metadata": {
        "id": "6qIv7spULRuu"
      }
    },
    {
      "cell_type": "code",
      "execution_count": null,
      "source": [
        "np.arange(10) # Elements from 0 to N - 1"
      ],
      "outputs": [
        {
          "output_type": "execute_result",
          "data": {
            "text/plain": [
              "array([0, 1, 2, 3, 4, 5, 6, 7, 8, 9])"
            ]
          },
          "metadata": {},
          "execution_count": 18
        }
      ],
      "metadata": {
        "id": "_NXqFmzzLRuu",
        "outputId": "6d8c440b-e6f2-43e6-870f-8f68cccbe89d"
      }
    },
    {
      "cell_type": "code",
      "execution_count": null,
      "source": [
        "np.linspace(0.1, 1.5, 5) # 5 Elements between 0.1 and 1.5 included equally spaced"
      ],
      "outputs": [
        {
          "output_type": "execute_result",
          "data": {
            "text/plain": [
              "array([0.1 , 0.45, 0.8 , 1.15, 1.5 ])"
            ]
          },
          "metadata": {},
          "execution_count": 20
        }
      ],
      "metadata": {
        "id": "5zGQtNXwLRuu",
        "outputId": "ae3b9341-c71e-438b-fc41-ea41141bbd36"
      }
    },
    {
      "cell_type": "code",
      "execution_count": null,
      "source": [
        "np.ones(10) # Vector of ones"
      ],
      "outputs": [
        {
          "output_type": "execute_result",
          "data": {
            "text/plain": [
              "array([1., 1., 1., 1., 1., 1., 1., 1., 1., 1.])"
            ]
          },
          "metadata": {},
          "execution_count": 22
        }
      ],
      "metadata": {
        "id": "P9Nh1_xpLRuu",
        "outputId": "aeb561d2-5367-4de9-a6e0-7a3125dcb7aa"
      }
    },
    {
      "cell_type": "code",
      "execution_count": null,
      "source": [
        "np.zeros(5) # Vector of zeros"
      ],
      "outputs": [
        {
          "output_type": "execute_result",
          "data": {
            "text/plain": [
              "array([0., 0., 0., 0., 0.])"
            ]
          },
          "metadata": {},
          "execution_count": 24
        }
      ],
      "metadata": {
        "id": "zIpajVGVLRuv",
        "outputId": "245321e2-25b3-4fdf-bc75-3a880d3a1054"
      }
    },
    {
      "cell_type": "code",
      "execution_count": null,
      "source": [
        "np.eye(5) # Identity matrix"
      ],
      "outputs": [
        {
          "output_type": "execute_result",
          "data": {
            "text/plain": [
              "array([[1., 0., 0., 0., 0.],\n",
              "       [0., 1., 0., 0., 0.],\n",
              "       [0., 0., 1., 0., 0.],\n",
              "       [0., 0., 0., 1., 0.],\n",
              "       [0., 0., 0., 0., 1.]])"
            ]
          },
          "metadata": {},
          "execution_count": 25
        }
      ],
      "metadata": {
        "id": "luMZ5qDeLRuv",
        "outputId": "6e4a8390-49e0-4ffa-8bd2-8408b116b4e7"
      }
    },
    {
      "cell_type": "code",
      "execution_count": null,
      "source": [
        "np.empty(4) # Array of garbage values"
      ],
      "outputs": [
        {
          "output_type": "execute_result",
          "data": {
            "text/plain": [
              "array([1.27042518e-311, 1.34003049e+263, 3.73513628e-321, 3.79442416e-321])"
            ]
          },
          "metadata": {},
          "execution_count": 28
        }
      ],
      "metadata": {
        "id": "R6sXvOl_LRuv",
        "outputId": "a3d7379c-2db3-41f4-fc78-8d0e779679b7"
      }
    },
    {
      "cell_type": "markdown",
      "source": [
        "## Indexing"
      ],
      "metadata": {
        "id": "kkU1SXunLRuv"
      }
    },
    {
      "cell_type": "code",
      "execution_count": null,
      "source": [
        "my_array = np.arange(100)"
      ],
      "outputs": [],
      "metadata": {
        "id": "fM84Sb9XLRuv"
      }
    },
    {
      "cell_type": "code",
      "execution_count": null,
      "source": [
        "my_array[1]"
      ],
      "outputs": [
        {
          "output_type": "execute_result",
          "data": {
            "text/plain": [
              "1"
            ]
          },
          "metadata": {},
          "execution_count": 31
        }
      ],
      "metadata": {
        "id": "KTwncTNqLRuv",
        "outputId": "20cd4d7e-459d-4cee-d9d7-6169c51c7ec8"
      }
    },
    {
      "cell_type": "code",
      "execution_count": null,
      "source": [
        "my_array[2:5]"
      ],
      "outputs": [
        {
          "output_type": "execute_result",
          "data": {
            "text/plain": [
              "array([2, 3, 4])"
            ]
          },
          "metadata": {},
          "execution_count": 32
        }
      ],
      "metadata": {
        "id": "va9Fzjv7LRuv",
        "outputId": "d4bab4cd-6fe7-4311-b177-d4a23af5716f"
      }
    },
    {
      "cell_type": "code",
      "execution_count": null,
      "source": [
        "my_array[:5]"
      ],
      "outputs": [
        {
          "output_type": "execute_result",
          "data": {
            "text/plain": [
              "array([0, 1, 2, 3, 4])"
            ]
          },
          "metadata": {},
          "execution_count": 33
        }
      ],
      "metadata": {
        "id": "JuDGrVdXLRuv",
        "outputId": "b680a172-e56f-4146-8028-828220dab7ba"
      }
    },
    {
      "cell_type": "code",
      "execution_count": null,
      "source": [
        "my_array[-5:-1]"
      ],
      "outputs": [
        {
          "output_type": "execute_result",
          "data": {
            "text/plain": [
              "array([95, 96, 97, 98])"
            ]
          },
          "metadata": {},
          "execution_count": 35
        }
      ],
      "metadata": {
        "id": "6r0FrA0WLRuw",
        "outputId": "5a0d02df-e53d-42da-8ddb-4d9238f38247"
      }
    },
    {
      "cell_type": "markdown",
      "source": [
        "## Axes"
      ],
      "metadata": {
        "id": "LsMU0NNTLRuw"
      }
    },
    {
      "cell_type": "code",
      "execution_count": null,
      "source": [
        "np.arange(9).reshape(3,3) # Convert an element of size 9 by 1 into a 3 by 3"
      ],
      "outputs": [
        {
          "output_type": "execute_result",
          "data": {
            "text/plain": [
              "array([[0, 1, 2],\n",
              "       [3, 4, 5],\n",
              "       [6, 7, 8]])"
            ]
          },
          "metadata": {},
          "execution_count": 39
        }
      ],
      "metadata": {
        "id": "lBAZ9vLnLRuw",
        "outputId": "b9e76899-ae10-4792-a033-de9f734521ab"
      }
    },
    {
      "cell_type": "code",
      "execution_count": null,
      "source": [
        "np.eye(2).reshape(4,1)"
      ],
      "outputs": [
        {
          "output_type": "execute_result",
          "data": {
            "text/plain": [
              "array([[1.],\n",
              "       [0.],\n",
              "       [0.],\n",
              "       [1.]])"
            ]
          },
          "metadata": {},
          "execution_count": 41
        }
      ],
      "metadata": {
        "id": "21FncbK8LRuw",
        "outputId": "9ec75d9e-332b-4948-e5b7-6913cc0d91d2"
      }
    },
    {
      "cell_type": "code",
      "execution_count": null,
      "source": [
        "X = np.eye(5)\n",
        "new_X = np.delete(X, 1, axis = 0)\n",
        "new_X"
      ],
      "outputs": [
        {
          "output_type": "execute_result",
          "data": {
            "text/plain": [
              "array([[1., 0., 0., 0., 0.],\n",
              "       [0., 0., 1., 0., 0.],\n",
              "       [0., 0., 0., 1., 0.],\n",
              "       [0., 0., 0., 0., 1.]])"
            ]
          },
          "metadata": {},
          "execution_count": 6
        }
      ],
      "metadata": {
        "id": "SUn98pGELRuw",
        "outputId": "f41d92ee-11c3-4fbe-f7a0-cfd41ed6c319"
      }
    },
    {
      "cell_type": "code",
      "execution_count": null,
      "source": [
        "new_X = np.delete(new_X, 0, axis = 1)\n",
        "new_X"
      ],
      "outputs": [
        {
          "output_type": "execute_result",
          "data": {
            "text/plain": [
              "array([[0., 0., 0., 0.],\n",
              "       [0., 1., 0., 0.],\n",
              "       [0., 0., 1., 0.],\n",
              "       [0., 0., 0., 1.]])"
            ]
          },
          "metadata": {},
          "execution_count": 7
        }
      ],
      "metadata": {
        "id": "trjHdqx5LRuw",
        "outputId": "d6d8b20b-9a90-4de1-e365-4a72c94e134c"
      }
    },
    {
      "cell_type": "markdown",
      "source": [
        "## Matrix and Vector Operations"
      ],
      "metadata": {
        "id": "_jX3p-Q4LRux"
      }
    },
    {
      "cell_type": "code",
      "execution_count": null,
      "source": [
        "x = np.random.rand(3,1) # Recall the size of the second dimension\n",
        "y = np.random.rand(3,1)\n",
        "X = np.random.rand(3,3)\n",
        "Y = np.random.rand(3,3)"
      ],
      "outputs": [],
      "metadata": {
        "id": "mmI01OeDLRux"
      }
    },
    {
      "cell_type": "code",
      "execution_count": null,
      "source": [
        "x + y # Vector elementwise addition"
      ],
      "outputs": [
        {
          "output_type": "execute_result",
          "data": {
            "text/plain": [
              "array([[0.8388071 ],\n",
              "       [0.71682484],\n",
              "       [0.79116594]])"
            ]
          },
          "metadata": {},
          "execution_count": 57
        }
      ],
      "metadata": {
        "id": "gQ5hsXY2LRux",
        "outputId": "f36e37aa-348c-4050-dd19-de55973a35d3"
      }
    },
    {
      "cell_type": "code",
      "execution_count": null,
      "source": [
        "X + Y # Matrix elementwise addition"
      ],
      "outputs": [
        {
          "output_type": "execute_result",
          "data": {
            "text/plain": [
              "array([[1.30072525, 0.76862975, 0.54635206],\n",
              "       [1.33031869, 1.19505628, 0.30712503],\n",
              "       [0.17977689, 1.45052886, 1.6524894 ]])"
            ]
          },
          "metadata": {},
          "execution_count": 58
        }
      ],
      "metadata": {
        "id": "GE3yLdVALRux",
        "outputId": "8b8ab30c-cf97-4c37-f10c-6ebde7093e46"
      }
    },
    {
      "cell_type": "code",
      "execution_count": null,
      "source": [
        "3*X # Multiplication by a scalar"
      ],
      "outputs": [
        {
          "output_type": "execute_result",
          "data": {
            "text/plain": [
              "array([[2.83465578, 1.0914685 , 0.93640966],\n",
              "       [2.37026435, 2.09729836, 0.32583038],\n",
              "       [0.36527684, 1.9253865 , 2.75913149]])"
            ]
          },
          "metadata": {},
          "execution_count": 59
        }
      ],
      "metadata": {
        "id": "NcpijqdpLRux",
        "outputId": "110b8142-cfae-4faa-88b6-14aeecb13ec1"
      }
    },
    {
      "cell_type": "code",
      "execution_count": null,
      "source": [
        "np.transpose(x) # Transpose"
      ],
      "outputs": [
        {
          "output_type": "execute_result",
          "data": {
            "text/plain": [
              "array([[0.53965064, 0.23107927, 0.63993421]])"
            ]
          },
          "metadata": {},
          "execution_count": 63
        }
      ],
      "metadata": {
        "id": "OozMdOMBLRux",
        "outputId": "ebdbbe7e-f362-485f-cec7-cedefcf0a684"
      }
    },
    {
      "cell_type": "code",
      "execution_count": null,
      "source": [
        "np.transpose(X) # Transpose"
      ],
      "outputs": [
        {
          "output_type": "execute_result",
          "data": {
            "text/plain": [
              "array([[0.94488526, 0.79008812, 0.12175895],\n",
              "       [0.36382283, 0.69909945, 0.6417955 ],\n",
              "       [0.31213655, 0.10861013, 0.9197105 ]])"
            ]
          },
          "metadata": {},
          "execution_count": 64
        }
      ],
      "metadata": {
        "id": "K3FuPiBmLRux",
        "outputId": "d9312b07-6f8f-43c0-f28d-8ab9da8bd5a3"
      }
    },
    {
      "cell_type": "code",
      "execution_count": null,
      "source": [
        "Xinv = np.linalg.inv(X) # Inverse of a matrix"
      ],
      "outputs": [],
      "metadata": {
        "id": "AkSwXGo-LRux"
      }
    },
    {
      "cell_type": "code",
      "execution_count": null,
      "source": [
        "X*Xinv # Element wise operation"
      ],
      "outputs": [
        {
          "output_type": "execute_result",
          "data": {
            "text/plain": [
              "array([[ 1.30896575, -0.11806156, -0.1347917 ],\n",
              "       [-1.36213628,  1.40392175,  0.03779213],\n",
              "       [ 0.12415385, -0.87181423,  0.82925983]])"
            ]
          },
          "metadata": {},
          "execution_count": 75
        }
      ],
      "metadata": {
        "id": "FEPBS6sWLRux",
        "outputId": "2c61d6cd-c3f6-40b4-d2c0-b31c82ba93a9"
      }
    },
    {
      "cell_type": "code",
      "execution_count": null,
      "source": [
        "X.dot(Xinv) # Matrix multiplication"
      ],
      "outputs": [
        {
          "output_type": "execute_result",
          "data": {
            "text/plain": [
              "array([[ 1.00000000e+00,  3.03362418e-17, -1.80083848e-17],\n",
              "       [-3.43527151e-16,  1.00000000e+00, -2.46391499e-17],\n",
              "       [-1.03420311e-17, -3.94577486e-18,  1.00000000e+00]])"
            ]
          },
          "metadata": {},
          "execution_count": 77
        }
      ],
      "metadata": {
        "id": "sqEEaqE1LRux",
        "outputId": "42290bbd-a62d-4e9d-8d5e-ba3fe3fd85ef"
      }
    },
    {
      "cell_type": "code",
      "execution_count": null,
      "source": [
        "x.dot(x) # Dimensions must be aligned"
      ],
      "outputs": [
        {
          "output_type": "error",
          "ename": "ValueError",
          "evalue": "shapes (3,1) and (3,1) not aligned: 1 (dim 1) != 3 (dim 0)",
          "traceback": [
            "\u001b[1;31m---------------------------------------------------------------------------\u001b[0m",
            "\u001b[1;31mValueError\u001b[0m                                Traceback (most recent call last)",
            "\u001b[1;32m<ipython-input-79-3d87d56d927b>\u001b[0m in \u001b[0;36m<module>\u001b[1;34m\u001b[0m\n\u001b[1;32m----> 1\u001b[1;33m \u001b[0mx\u001b[0m\u001b[1;33m.\u001b[0m\u001b[0mdot\u001b[0m\u001b[1;33m(\u001b[0m\u001b[0mx\u001b[0m\u001b[1;33m)\u001b[0m \u001b[1;31m# Dimensions must be aligned\u001b[0m\u001b[1;33m\u001b[0m\u001b[1;33m\u001b[0m\u001b[0m\n\u001b[0m",
            "\u001b[1;31mValueError\u001b[0m: shapes (3,1) and (3,1) not aligned: 1 (dim 1) != 3 (dim 0)"
          ]
        }
      ],
      "metadata": {
        "id": "YnubXvreLRux",
        "outputId": "6c4b6d63-0e21-44f3-e39b-5cae0d91ea55"
      }
    },
    {
      "cell_type": "code",
      "execution_count": null,
      "source": [
        "x.transpose() # Alternative way of transposing"
      ],
      "outputs": [
        {
          "output_type": "execute_result",
          "data": {
            "text/plain": [
              "array([[0.53965064, 0.23107927, 0.63993421]])"
            ]
          },
          "metadata": {},
          "execution_count": 82
        }
      ],
      "metadata": {
        "id": "nweocKI7LRuy",
        "outputId": "9f4d1030-fcf3-4afd-d37c-65379fed7820"
      }
    },
    {
      "cell_type": "code",
      "execution_count": null,
      "source": [
        "x.transpose().dot(x) # Dot product"
      ],
      "outputs": [
        {
          "output_type": "execute_result",
          "data": {
            "text/plain": [
              "array([[0.75413624]])"
            ]
          },
          "metadata": {},
          "execution_count": 84
        }
      ],
      "metadata": {
        "id": "H6rKuxSALRuy",
        "outputId": "3324576b-b81a-4182-ec36-2d2a8017836b"
      }
    },
    {
      "cell_type": "markdown",
      "source": [
        "## Some useful functions"
      ],
      "metadata": {
        "id": "OuoCcUEuLRuy"
      }
    },
    {
      "cell_type": "code",
      "execution_count": null,
      "source": [
        "np.pi # Number pi "
      ],
      "outputs": [
        {
          "output_type": "execute_result",
          "data": {
            "text/plain": [
              "3.141592653589793"
            ]
          },
          "metadata": {},
          "execution_count": 171
        }
      ],
      "metadata": {
        "id": "5rsBCIXDLRuy",
        "outputId": "b01d61a7-5fec-453f-abbb-d5e9b4df441a"
      }
    },
    {
      "cell_type": "code",
      "execution_count": null,
      "source": [
        "np.sqrt(2)"
      ],
      "outputs": [
        {
          "output_type": "execute_result",
          "data": {
            "text/plain": [
              "1.4142135623730951"
            ]
          },
          "metadata": {},
          "execution_count": 172
        }
      ],
      "metadata": {
        "id": "WqcV-Ku1LRuy",
        "outputId": "f31925c8-c549-4295-9bca-bc3ef8e29485"
      }
    },
    {
      "cell_type": "code",
      "execution_count": null,
      "source": [
        "np.max(np.arange(5))"
      ],
      "outputs": [
        {
          "output_type": "execute_result",
          "data": {
            "text/plain": [
              "4"
            ]
          },
          "metadata": {},
          "execution_count": 173
        }
      ],
      "metadata": {
        "id": "-4AP7sbjLRuy",
        "outputId": "ced0f06e-e946-4e9c-8fe9-43fbe5e2704f"
      }
    },
    {
      "cell_type": "code",
      "execution_count": null,
      "source": [
        "np.min(np.arange(5))"
      ],
      "outputs": [
        {
          "output_type": "execute_result",
          "data": {
            "text/plain": [
              "0"
            ]
          },
          "metadata": {},
          "execution_count": 174
        }
      ],
      "metadata": {
        "id": "CL767e8xLRuz",
        "outputId": "26a5abc9-1d0f-4dbe-c7f5-a9366ecc5263"
      }
    },
    {
      "cell_type": "code",
      "execution_count": null,
      "source": [
        "n=10\n",
        "np.sum(np.linspace(1,n,n)) == n*(n+1)/2"
      ],
      "outputs": [
        {
          "output_type": "execute_result",
          "data": {
            "text/plain": [
              "True"
            ]
          },
          "metadata": {},
          "execution_count": 177
        }
      ],
      "metadata": {
        "id": "v-hnmSR_LRuz",
        "outputId": "391f2b5c-7540-43bc-9135-9e5fbcf9d42e"
      }
    },
    {
      "cell_type": "markdown",
      "source": [
        "## Append data"
      ],
      "metadata": {
        "id": "960FfflmLRu2"
      }
    },
    {
      "cell_type": "markdown",
      "source": [
        "$ \n",
        "\\begin{pmatrix}\n",
        "  X \\\\\n",
        " Y\n",
        "\\end{pmatrix}\n",
        "$"
      ],
      "metadata": {
        "id": "KGV7uoiMLRu2"
      }
    },
    {
      "cell_type": "code",
      "execution_count": null,
      "source": [
        "np.append(X,Y, axis=0).shape"
      ],
      "outputs": [
        {
          "output_type": "execute_result",
          "data": {
            "text/plain": [
              "(6, 3)"
            ]
          },
          "metadata": {},
          "execution_count": 92
        }
      ],
      "metadata": {
        "id": "-UjlFRgoLRu2",
        "outputId": "0f989409-5c1a-4e28-936d-a56ff800f272"
      }
    },
    {
      "cell_type": "markdown",
      "source": [
        "$ \n",
        "\\begin{pmatrix}\n",
        "  X  & Y\n",
        "\\end{pmatrix}\n",
        "$"
      ],
      "metadata": {
        "id": "IqDUvFMiLRu2"
      }
    },
    {
      "cell_type": "code",
      "execution_count": null,
      "source": [
        "np.append(X,Y, axis=1).shape"
      ],
      "outputs": [
        {
          "output_type": "execute_result",
          "data": {
            "text/plain": [
              "(3, 6)"
            ]
          },
          "metadata": {},
          "execution_count": 91
        }
      ],
      "metadata": {
        "id": "WOGIeajLLRu2",
        "outputId": "e0ef7237-9edb-43b2-fc57-5517eb42ae30"
      }
    },
    {
      "cell_type": "markdown",
      "source": [
        "$ \n",
        "\\begin{pmatrix}\n",
        "  X \\\\\n",
        " x'\n",
        "\\end{pmatrix}\n",
        "$"
      ],
      "metadata": {
        "id": "RTn9woj_LRu2"
      }
    },
    {
      "cell_type": "code",
      "execution_count": null,
      "source": [
        "np.append(X, x.transpose(), axis=0).shape"
      ],
      "outputs": [
        {
          "output_type": "execute_result",
          "data": {
            "text/plain": [
              "(4, 3)"
            ]
          },
          "metadata": {},
          "execution_count": 95
        }
      ],
      "metadata": {
        "id": "NaHQr9QmLRu2",
        "outputId": "b3cd55cd-3e6e-4164-d213-bdc969de8da9"
      }
    },
    {
      "cell_type": "markdown",
      "source": [
        "$ \n",
        "\\begin{pmatrix}\n",
        "  X x\n",
        "\\end{pmatrix}\n",
        "$"
      ],
      "metadata": {
        "id": "CTYPdWcRLRu2"
      }
    },
    {
      "cell_type": "code",
      "execution_count": null,
      "source": [
        "np.append(X, x, axis=1).shape"
      ],
      "outputs": [
        {
          "output_type": "execute_result",
          "data": {
            "text/plain": [
              "(3, 4)"
            ]
          },
          "metadata": {},
          "execution_count": 97
        }
      ],
      "metadata": {
        "id": "aCAdq8JALRu2",
        "outputId": "4866b73e-45e3-48b7-ef8e-da5d5c108d15"
      }
    },
    {
      "cell_type": "markdown",
      "source": [
        "## Linear Algebra"
      ],
      "metadata": {
        "id": "eu1HORC1LRu3"
      }
    },
    {
      "cell_type": "code",
      "execution_count": null,
      "source": [
        "from numpy import linalg as LA"
      ],
      "outputs": [],
      "metadata": {
        "id": "HqeC2Eg2LRu3"
      }
    },
    {
      "cell_type": "code",
      "execution_count": null,
      "source": [
        "XX = X.transpose().dot(X) # Eigenvalue decomposition\n",
        "w, V = LA.eig(XX)"
      ],
      "outputs": [],
      "metadata": {
        "id": "-gNIzLF0LRu4"
      }
    },
    {
      "cell_type": "code",
      "execution_count": null,
      "source": [
        "V.dot(np.diag(w)).dot(LA.inv(V))"
      ],
      "outputs": [
        {
          "output_type": "execute_result",
          "data": {
            "text/plain": [
              "array([[1.53187263, 0.97426535, 0.49272778],\n",
              "       [0.97426535, 1.03300856, 0.77975774],\n",
              "       [0.49272778, 0.77975774, 0.95509278]])"
            ]
          },
          "metadata": {},
          "execution_count": 113
        }
      ],
      "metadata": {
        "id": "DTfZ4jquLRu4",
        "outputId": "1cc697e7-6c49-4560-eb52-09bc494db2f8"
      }
    },
    {
      "cell_type": "code",
      "execution_count": null,
      "source": [
        "# How far is it from the original XX?\n",
        "np.max(np.abs(XX-V.dot(np.diag(w)).dot(LA.inv(V))))"
      ],
      "outputs": [
        {
          "output_type": "execute_result",
          "data": {
            "text/plain": [
              "6.661338147750939e-16"
            ]
          },
          "metadata": {},
          "execution_count": 114
        }
      ],
      "metadata": {
        "id": "alW7wfP7LRu4",
        "outputId": "ffd696e7-6bb5-47a4-abbd-d09f2b6aa02c"
      }
    },
    {
      "cell_type": "code",
      "execution_count": null,
      "source": [
        "# But far enough to avoid using ==\n",
        "XX == V.dot(np.diag(w)).dot(LA.inv(V))"
      ],
      "outputs": [
        {
          "output_type": "execute_result",
          "data": {
            "text/plain": [
              "array([[False, False, False],\n",
              "       [False, False, False],\n",
              "       [False, False,  True]])"
            ]
          },
          "metadata": {},
          "execution_count": 115
        }
      ],
      "metadata": {
        "id": "VdeFgOQKLRu4",
        "outputId": "1654fd07-31e1-4457-e403-58e91c813a87"
      }
    },
    {
      "cell_type": "markdown",
      "source": [
        "### Kronecker product\n",
        "$$\n",
        "\\mathbf{v}=\\left[\\begin{array}{c}\n",
        "v_{1} \\\\\n",
        "v_{2} \\\\\n",
        "\\vdots \\\\\n",
        "v_{n}\n",
        "\\end{array}\\right], \\mathbf{w}=\\left[\\begin{array}{c}\n",
        "w_{1} \\\\\n",
        "w_{2} \\\\\n",
        "\\vdots \\\\\n",
        "w_{m}\n",
        "\\end{array}\\right]\n",
        "$$\n",
        "\n",
        "$\n",
        "\\mathbf{v} \\bigotimes \\mathbf{w'} =\\left[\\begin{array}{cccc}\n",
        "v_{1} w_{1} & v_{1} w_{2} & \\cdots & v_{1} w_{m} \\\\\n",
        "v_{2} w_{1} & v_{2} w_{2} & \\cdots & v_{2} w_{m} \\\\\n",
        "\\vdots & \\vdots & \\ddots & \\vdots \\\\\n",
        "v_{n} w_{1} & v_{n} w_{2} & \\cdots & v_{n} w_{m}\n",
        "\\end{array}\\right]\n",
        "$"
      ],
      "metadata": {
        "id": "08NYkkcXLRu4"
      }
    },
    {
      "cell_type": "code",
      "execution_count": null,
      "source": [
        "np.kron(x,y.transpose()).shape"
      ],
      "outputs": [
        {
          "output_type": "execute_result",
          "data": {
            "text/plain": [
              "(3, 3)"
            ]
          },
          "metadata": {},
          "execution_count": 120
        }
      ],
      "metadata": {
        "id": "Ki6l4Om-LRu4",
        "outputId": "3c261056-a854-449e-b5b4-3f184e781875"
      }
    },
    {
      "cell_type": "code",
      "execution_count": null,
      "source": [
        "np.kron(x,y).shape"
      ],
      "outputs": [
        {
          "output_type": "execute_result",
          "data": {
            "text/plain": [
              "(9, 1)"
            ]
          },
          "metadata": {},
          "execution_count": 122
        }
      ],
      "metadata": {
        "id": "e-jDXJGjLRu4",
        "outputId": "1881ee3c-f33b-4161-9bba-7d1598bf23d5"
      }
    },
    {
      "cell_type": "markdown",
      "source": [
        "# Plots"
      ],
      "metadata": {
        "id": "75qE53BMLRu4"
      }
    },
    {
      "cell_type": "code",
      "execution_count": null,
      "source": [
        "from matplotlib import pyplot as plt"
      ],
      "outputs": [],
      "metadata": {
        "id": "I_l0lcMqLRu4"
      }
    },
    {
      "cell_type": "code",
      "execution_count": null,
      "source": [
        "N = 1000\n",
        "x = np.random.rand(N)\n",
        "mu, sigma = 0, 1\n",
        "e = np.random.normal(mu, sigma, N)\n",
        "y = 1.0 + 10*x + e\n",
        "\n",
        "plt.title(\"Matplotlib Example\") \n",
        "plt.xlabel(\"x axis caption\") \n",
        "plt.ylabel(\"y axis caption\") \n",
        "plt.scatter(x,y) # Plots dots\n",
        "plt.show()"
      ],
      "outputs": [
        {
          "output_type": "display_data",
          "data": {
            "image/png": "[encoded data removed]",
            "text/plain": [
              "<Figure size 432x288 with 1 Axes>"
            ]
          },
          "metadata": {
            "needs_background": "light"
          }
        }
      ],
      "metadata": {
        "id": "aZBYL31kLRu5",
        "outputId": "5c457154-47a4-454d-d3ea-af72593603e3"
      }
    },
    {
      "cell_type": "markdown",
      "source": [
        "## Example - Retrieve the coefficients of the linear model using OLS and linear algebra\n"
      ],
      "metadata": {
        "id": "tR_XtIQLLRu5"
      }
    },
    {
      "cell_type": "code",
      "execution_count": null,
      "source": [
        "x = x.reshape(N,1) # Required since x had dimensions N,0\n",
        "u = np.ones(N).reshape(N,1)\n",
        "X = np.append(u,x, axis=1)\n",
        "y = y.reshape(N,1)"
      ],
      "outputs": [],
      "metadata": {
        "id": "YYGSIoBPLRu5"
      }
    },
    {
      "cell_type": "code",
      "execution_count": null,
      "source": [
        "betas = LA.inv(X.transpose().dot(X)).dot(X.transpose().dot(y))\n",
        "betas\n"
      ],
      "outputs": [
        {
          "output_type": "execute_result",
          "data": {
            "text/plain": [
              "array([[ 1.05235949],\n",
              "       [10.00250736]])"
            ]
          },
          "metadata": {},
          "execution_count": 157
        }
      ],
      "metadata": {
        "id": "IMmrcs3VLRu5",
        "outputId": "bc460399-f9dd-4753-f50e-a517efae56c1"
      }
    },
    {
      "cell_type": "code",
      "execution_count": null,
      "source": [
        "yhat = betas[0] + betas[1]*x\n",
        "plt.scatter(x,y, zorder = 1) # Plots dots\n",
        "plt.plot(x,yhat, 'red', zorder = 2) # Plots line\n",
        "plt.show()"
      ],
      "outputs": [
        {
          "output_type": "display_data",
          "data": {
            "image/png": "[encoded data removed]",
            "text/plain": [
              "<Figure size 432x288 with 1 Axes>"
            ]
          },
          "metadata": {
            "needs_background": "light"
          }
        }
      ],
      "metadata": {
        "id": "Lt_yCmg5LRu5",
        "outputId": "8de7e876-bbc0-4551-9936-6d7bfae12562"
      }
    },
    {
      "cell_type": "markdown",
      "source": [
        "## Histograms"
      ],
      "metadata": {
        "id": "mYnI8U43LRu5"
      }
    },
    {
      "cell_type": "code",
      "execution_count": null,
      "source": [
        "\n",
        "count, bins, ignored = plt.hist(e, 30, density=True)\n",
        "\n",
        "plt.plot(bins, 1/(sigma * np.sqrt(2 * np.pi)) * np.exp( - (bins - mu)**2 / (2 * sigma**2) ), linewidth=2, color='r')\n",
        "\n",
        "plt.show()"
      ],
      "outputs": [
        {
          "output_type": "display_data",
          "data": {
            "image/png": "[encoded data removed]",
            "text/plain": [
              "<Figure size 432x288 with 1 Axes>"
            ]
          },
          "metadata": {
            "needs_background": "light"
          }
        }
      ],
      "metadata": {
        "id": "TtCS-5MQLRu5",
        "outputId": "2949a179-7993-45ac-d41c-707a3c1a685d"
      }
    },
    {
      "cell_type": "markdown",
      "source": [
        "## Recursion\n",
        "\n",
        "A recursive formulation of a function consists of \n",
        "\n",
        "1. A base case \n",
        "2. A recursive call "
      ],
      "metadata": {
        "id": "RBWXh8X3LRu5"
      }
    },
    {
      "cell_type": "markdown",
      "source": [
        "Example, definition of the factorial (!) function\n",
        "\n",
        "$\n",
        "   f(n) = \\left\\{\\begin{array}{lr}\n",
        "        1, & \\text{if }n = 0 \\\\\n",
        "        n \\times f(n-1), & \\text{for } n\\geq 0\\\\\n",
        "        \\end{array}\\right\\}\n",
        "$"
      ],
      "metadata": {
        "id": "vBUFdZW4LRu5"
      }
    },
    {
      "cell_type": "code",
      "execution_count": null,
      "source": [
        "fact = lambda n: 1 if n == 0 else n * fact(n-1)"
      ],
      "outputs": [],
      "metadata": {
        "id": "d2MXR-99LRu6"
      }
    },
    {
      "cell_type": "code",
      "execution_count": null,
      "source": [
        "fact(54)"
      ],
      "outputs": [
        {
          "output_type": "execute_result",
          "data": {
            "text/plain": [
              "230843697339241380472092742683027581083278564571807941132288000000000000"
            ]
          },
          "metadata": {},
          "execution_count": 13
        }
      ],
      "metadata": {
        "id": "SoCU6CRtLRu6",
        "outputId": "ad57b000-c538-4bae-ef29-baace6fb4f96"
      }
    }
  ],
  "metadata": {
    "orig_nbformat": 4,
    "language_info": {
      "name": "python",
      "version": "3.8.8",
      "mimetype": "text/x-python",
      "codemirror_mode": {
        "name": "ipython",
        "version": 3
      },
      "pygments_lexer": "ipython3",
      "nbconvert_exporter": "python",
      "file_extension": ".py"
    },
    "kernelspec": {
      "name": "python3",
      "display_name": "Python 3.8.8 64-bit ('base': conda)"
    },
    "interpreter": {
      "hash": "3bce3b5366bc5d3beb18138a90777eb607bfd7bcdc5b1b5786ac51c214c88ff2"
    },
    "colab": {
      "provenance": [],
      "include_colab_link": true
    }
  },
  "nbformat": 4,
  "nbformat_minor": 0
}