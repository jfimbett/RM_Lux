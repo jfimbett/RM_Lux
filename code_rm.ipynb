{
  "cells": [
    {
      "cell_type": "markdown",
      "metadata": {
        "id": "view-in-github",
        "colab_type": "text"
      },
      "source": [
        "<a href=\"https://colab.research.google.com/github/jfimbett/RM_Lux/blob/main/code_rm.ipynb\" target=\"_parent\"><img src=\"https://colab.research.google.com/assets/colab-badge.svg\" alt=\"Open In Colab\"/></a>"
      ]
    },
    {
      "cell_type": "markdown",
      "id": "47c3be2b",
      "metadata": {
        "id": "47c3be2b"
      },
      "source": [
        "# Supporting Jupyter notebook\n",
        "\n",
        "## Risk Management for Financial Institutions - University of Luxembourg\n",
        "\n",
        "### Juan F. Imbet Ph.D. Paris Dauphine - PSL\n"
      ]
    },
    {
      "cell_type": "code",
      "source": [
        "!python3 --version"
      ],
      "metadata": {
        "id": "TTdsMWn7v5Sj",
        "outputId": "20877142-4b0b-454f-dbeb-002f12e4d7a1",
        "colab": {
          "base_uri": "https://localhost:8080/"
        }
      },
      "id": "TTdsMWn7v5Sj",
      "execution_count": null,
      "outputs": [
        {
          "output_type": "stream",
          "name": "stdout",
          "text": [
            "Python 3.8.18\n"
          ]
        }
      ]
    },
    {
      "cell_type": "markdown",
      "id": "09dcd846",
      "metadata": {
        "id": "09dcd846"
      },
      "source": [
        "## Portfolio Allocation Example"
      ]
    },
    {
      "cell_type": "markdown",
      "id": "e43f4f78",
      "metadata": {
        "id": "e43f4f78"
      },
      "source": [
        "Load data"
      ]
    },
    {
      "cell_type": "code",
      "execution_count": null,
      "id": "2fba5e06",
      "metadata": {
        "colab": {
          "base_uri": "https://localhost:8080/"
        },
        "id": "2fba5e06",
        "outputId": "9d4f0307-214c-4210-b842-aa99770ae681"
      },
      "outputs": [
        {
          "output_type": "stream",
          "name": "stderr",
          "text": [
            "\r  0%|          | 0/49 [00:00<?, ?it/s]"
          ]
        },
        {
          "output_type": "stream",
          "name": "stdout",
          "text": [
            "\r[*********************100%%**********************]  1 of 1 completed"
          ]
        },
        {
          "output_type": "stream",
          "name": "stderr",
          "text": [
            "\r  2%|▏         | 1/49 [00:00<00:10,  4.65it/s]"
          ]
        },
        {
          "output_type": "stream",
          "name": "stdout",
          "text": [
            "\n",
            "\r[*********************100%%**********************]  1 of 1 completed"
          ]
        },
        {
          "output_type": "stream",
          "name": "stderr",
          "text": [
            "\r  4%|▍         | 2/49 [00:00<00:07,  6.67it/s]"
          ]
        },
        {
          "output_type": "stream",
          "name": "stdout",
          "text": [
            "\n",
            "[*********************100%%**********************]  1 of 1 completed\n",
            "[*********************100%%**********************]  1 of 1 completed"
          ]
        },
        {
          "output_type": "stream",
          "name": "stderr",
          "text": [
            "\r  8%|▊         | 4/49 [00:00<00:04,  9.02it/s]"
          ]
        },
        {
          "output_type": "stream",
          "name": "stdout",
          "text": [
            "\n",
            "[*********************100%%**********************]  1 of 1 completed\n",
            "[*********************100%%**********************]  1 of 1 completed"
          ]
        },
        {
          "output_type": "stream",
          "name": "stderr",
          "text": [
            "\r 12%|█▏        | 6/49 [00:00<00:04,  9.05it/s]"
          ]
        },
        {
          "output_type": "stream",
          "name": "stdout",
          "text": [
            "\n",
            "[*********************100%%**********************]  1 of 1 completed"
          ]
        },
        {
          "output_type": "stream",
          "name": "stderr",
          "text": [
            "\r 14%|█▍        | 7/49 [00:00<00:05,  7.07it/s]"
          ]
        },
        {
          "output_type": "stream",
          "name": "stdout",
          "text": [
            "\n",
            "\r[*********************100%%**********************]  1 of 1 completed"
          ]
        },
        {
          "output_type": "stream",
          "name": "stderr",
          "text": [
            "\r 16%|█▋        | 8/49 [00:01<00:05,  7.56it/s]"
          ]
        },
        {
          "output_type": "stream",
          "name": "stdout",
          "text": [
            "\n",
            "[*********************100%%**********************]  1 of 1 completed"
          ]
        },
        {
          "output_type": "stream",
          "name": "stderr",
          "text": [
            "\r 18%|█▊        | 9/49 [00:01<00:06,  6.47it/s]"
          ]
        },
        {
          "output_type": "stream",
          "name": "stdout",
          "text": [
            "\n",
            "\r[*********************100%%**********************]  1 of 1 completed"
          ]
        },
        {
          "output_type": "stream",
          "name": "stderr",
          "text": [
            "\r 20%|██        | 10/49 [00:01<00:05,  7.17it/s]"
          ]
        },
        {
          "output_type": "stream",
          "name": "stdout",
          "text": [
            "\n",
            "[*********************100%%**********************]  1 of 1 completed"
          ]
        },
        {
          "output_type": "stream",
          "name": "stderr",
          "text": [
            "\r 22%|██▏       | 11/49 [00:01<00:05,  7.44it/s]"
          ]
        },
        {
          "output_type": "stream",
          "name": "stdout",
          "text": [
            "\n",
            "[*********************100%%**********************]  1 of 1 completed"
          ]
        },
        {
          "output_type": "stream",
          "name": "stderr",
          "text": [
            "\r 24%|██▍       | 12/49 [00:01<00:04,  7.46it/s]"
          ]
        },
        {
          "output_type": "stream",
          "name": "stdout",
          "text": [
            "\n",
            "[*********************100%%**********************]  1 of 1 completed"
          ]
        },
        {
          "output_type": "stream",
          "name": "stderr",
          "text": [
            "\r 27%|██▋       | 13/49 [00:01<00:04,  7.38it/s]"
          ]
        },
        {
          "output_type": "stream",
          "name": "stdout",
          "text": [
            "\n",
            "[*********************100%%**********************]  1 of 1 completed"
          ]
        },
        {
          "output_type": "stream",
          "name": "stderr",
          "text": [
            "\r 29%|██▊       | 14/49 [00:01<00:05,  6.90it/s]"
          ]
        },
        {
          "output_type": "stream",
          "name": "stdout",
          "text": [
            "\n",
            "[*********************100%%**********************]  1 of 1 completed"
          ]
        },
        {
          "output_type": "stream",
          "name": "stderr",
          "text": [
            "\r 31%|███       | 15/49 [00:02<00:04,  6.87it/s]"
          ]
        },
        {
          "output_type": "stream",
          "name": "stdout",
          "text": [
            "\n",
            "[*********************100%%**********************]  1 of 1 completed"
          ]
        },
        {
          "output_type": "stream",
          "name": "stderr",
          "text": [
            "\r 33%|███▎      | 16/49 [00:02<00:05,  6.41it/s]"
          ]
        },
        {
          "output_type": "stream",
          "name": "stdout",
          "text": [
            "\n",
            "[*********************100%%**********************]  1 of 1 completed"
          ]
        },
        {
          "output_type": "stream",
          "name": "stderr",
          "text": [
            "\r 35%|███▍      | 17/49 [00:02<00:05,  5.89it/s]"
          ]
        },
        {
          "output_type": "stream",
          "name": "stdout",
          "text": [
            "\n",
            "[*********************100%%**********************]  1 of 1 completed\n",
            "[*********************100%%**********************]  1 of 1 completed"
          ]
        },
        {
          "output_type": "stream",
          "name": "stderr",
          "text": [
            "\r 39%|███▉      | 19/49 [00:02<00:04,  6.65it/s]"
          ]
        },
        {
          "output_type": "stream",
          "name": "stdout",
          "text": [
            "\n",
            "[*********************100%%**********************]  1 of 1 completed"
          ]
        },
        {
          "output_type": "stream",
          "name": "stderr",
          "text": [
            "\r 41%|████      | 20/49 [00:02<00:04,  6.79it/s]"
          ]
        },
        {
          "output_type": "stream",
          "name": "stdout",
          "text": [
            "\n",
            "[*********************100%%**********************]  1 of 1 completed\n",
            "[*********************100%%**********************]  1 of 1 completed"
          ]
        },
        {
          "output_type": "stream",
          "name": "stderr",
          "text": [
            "\r 45%|████▍     | 22/49 [00:03<00:03,  6.81it/s]"
          ]
        },
        {
          "output_type": "stream",
          "name": "stdout",
          "text": [
            "\n",
            "[*********************100%%**********************]  1 of 1 completed\n",
            "[*********************100%%**********************]  1 of 1 completed"
          ]
        },
        {
          "output_type": "stream",
          "name": "stderr",
          "text": [
            "\r 49%|████▉     | 24/49 [00:03<00:03,  7.28it/s]"
          ]
        },
        {
          "output_type": "stream",
          "name": "stdout",
          "text": [
            "\n",
            "[*********************100%%**********************]  1 of 1 completed\n",
            "[*********************100%%**********************]  1 of 1 completed"
          ]
        },
        {
          "output_type": "stream",
          "name": "stderr",
          "text": [
            "\r 53%|█████▎    | 26/49 [00:03<00:03,  7.43it/s]"
          ]
        },
        {
          "output_type": "stream",
          "name": "stdout",
          "text": [
            "\n",
            "[*********************100%%**********************]  1 of 1 completed\n",
            "[*********************100%%**********************]  1 of 1 completed"
          ]
        },
        {
          "output_type": "stream",
          "name": "stderr",
          "text": [
            "\r 57%|█████▋    | 28/49 [00:03<00:02,  8.21it/s]"
          ]
        },
        {
          "output_type": "stream",
          "name": "stdout",
          "text": [
            "\n",
            "[*********************100%%**********************]  1 of 1 completed"
          ]
        },
        {
          "output_type": "stream",
          "name": "stderr",
          "text": [
            "\r 59%|█████▉    | 29/49 [00:04<00:02,  7.55it/s]"
          ]
        },
        {
          "output_type": "stream",
          "name": "stdout",
          "text": [
            "\n",
            "[*********************100%%**********************]  1 of 1 completed"
          ]
        },
        {
          "output_type": "stream",
          "name": "stderr",
          "text": [
            "\r 61%|██████    | 30/49 [00:04<00:02,  7.96it/s]"
          ]
        },
        {
          "output_type": "stream",
          "name": "stdout",
          "text": [
            "\n",
            "[*********************100%%**********************]  1 of 1 completed"
          ]
        },
        {
          "output_type": "stream",
          "name": "stderr",
          "text": [
            "\r 63%|██████▎   | 31/49 [00:04<00:02,  8.21it/s]"
          ]
        },
        {
          "output_type": "stream",
          "name": "stdout",
          "text": [
            "\n",
            "[*********************100%%**********************]  1 of 1 completed"
          ]
        },
        {
          "output_type": "stream",
          "name": "stderr",
          "text": [
            "\r 65%|██████▌   | 32/49 [00:04<00:02,  8.39it/s]"
          ]
        },
        {
          "output_type": "stream",
          "name": "stdout",
          "text": [
            "\n",
            "[*********************100%%**********************]  1 of 1 completed\n",
            "[*********************100%%**********************]  1 of 1 completed"
          ]
        },
        {
          "output_type": "stream",
          "name": "stderr",
          "text": [
            "\r 69%|██████▉   | 34/49 [00:04<00:01,  9.31it/s]"
          ]
        },
        {
          "output_type": "stream",
          "name": "stdout",
          "text": [
            "\n",
            "[*********************100%%**********************]  1 of 1 completed"
          ]
        },
        {
          "output_type": "stream",
          "name": "stderr",
          "text": [
            "\r 71%|███████▏  | 35/49 [00:04<00:01,  8.31it/s]"
          ]
        },
        {
          "output_type": "stream",
          "name": "stdout",
          "text": [
            "\n",
            "[*********************100%%**********************]  1 of 1 completed"
          ]
        },
        {
          "output_type": "stream",
          "name": "stderr",
          "text": [
            "\r 73%|███████▎  | 36/49 [00:04<00:01,  8.24it/s]"
          ]
        },
        {
          "output_type": "stream",
          "name": "stdout",
          "text": [
            "\n",
            "[*********************100%%**********************]  1 of 1 completed"
          ]
        },
        {
          "output_type": "stream",
          "name": "stderr",
          "text": [
            "\r 76%|███████▌  | 37/49 [00:04<00:01,  7.33it/s]"
          ]
        },
        {
          "output_type": "stream",
          "name": "stdout",
          "text": [
            "\n",
            "[*********************100%%**********************]  1 of 1 completed"
          ]
        },
        {
          "output_type": "stream",
          "name": "stderr",
          "text": [
            "\r 78%|███████▊  | 38/49 [00:05<00:01,  6.29it/s]"
          ]
        },
        {
          "output_type": "stream",
          "name": "stdout",
          "text": [
            "\n",
            "[*********************100%%**********************]  1 of 1 completed"
          ]
        },
        {
          "output_type": "stream",
          "name": "stderr",
          "text": [
            "\r 80%|███████▉  | 39/49 [00:05<00:01,  5.80it/s]"
          ]
        },
        {
          "output_type": "stream",
          "name": "stdout",
          "text": [
            "\n",
            "\r[*********************100%%**********************]  1 of 1 completed"
          ]
        },
        {
          "output_type": "stream",
          "name": "stderr",
          "text": [
            "\r 82%|████████▏ | 40/49 [00:05<00:01,  6.38it/s]"
          ]
        },
        {
          "output_type": "stream",
          "name": "stdout",
          "text": [
            "\n",
            "[*********************100%%**********************]  1 of 1 completed"
          ]
        },
        {
          "output_type": "stream",
          "name": "stderr",
          "text": [
            "\r 84%|████████▎ | 41/49 [00:05<00:01,  6.05it/s]"
          ]
        },
        {
          "output_type": "stream",
          "name": "stdout",
          "text": [
            "\n",
            "[*********************100%%**********************]  1 of 1 completed"
          ]
        },
        {
          "output_type": "stream",
          "name": "stderr",
          "text": [
            "\r 86%|████████▌ | 42/49 [00:05<00:01,  6.26it/s]"
          ]
        },
        {
          "output_type": "stream",
          "name": "stdout",
          "text": [
            "\n",
            "[*********************100%%**********************]  1 of 1 completed"
          ]
        },
        {
          "output_type": "stream",
          "name": "stderr",
          "text": [
            "\r 88%|████████▊ | 43/49 [00:05<00:00,  6.94it/s]"
          ]
        },
        {
          "output_type": "stream",
          "name": "stdout",
          "text": [
            "\n",
            "[*********************100%%**********************]  1 of 1 completed"
          ]
        },
        {
          "output_type": "stream",
          "name": "stderr",
          "text": [
            "\r 90%|████████▉ | 44/49 [00:06<00:00,  7.25it/s]"
          ]
        },
        {
          "output_type": "stream",
          "name": "stdout",
          "text": [
            "\n",
            "[*********************100%%**********************]  1 of 1 completed"
          ]
        },
        {
          "output_type": "stream",
          "name": "stderr",
          "text": [
            "\r 92%|█████████▏| 45/49 [00:06<00:00,  7.13it/s]"
          ]
        },
        {
          "output_type": "stream",
          "name": "stdout",
          "text": [
            "\n",
            "[*********************100%%**********************]  1 of 1 completed"
          ]
        },
        {
          "output_type": "stream",
          "name": "stderr",
          "text": [
            "\r 94%|█████████▍| 46/49 [00:06<00:00,  7.49it/s]"
          ]
        },
        {
          "output_type": "stream",
          "name": "stdout",
          "text": [
            "\n",
            "[*********************100%%**********************]  1 of 1 completed"
          ]
        },
        {
          "output_type": "stream",
          "name": "stderr",
          "text": [
            "\r 96%|█████████▌| 47/49 [00:06<00:00,  6.84it/s]"
          ]
        },
        {
          "output_type": "stream",
          "name": "stdout",
          "text": [
            "\n",
            "[*********************100%%**********************]  1 of 1 completed"
          ]
        },
        {
          "output_type": "stream",
          "name": "stderr",
          "text": [
            "\r 98%|█████████▊| 48/49 [00:06<00:00,  6.08it/s]"
          ]
        },
        {
          "output_type": "stream",
          "name": "stdout",
          "text": [
            "\n",
            "\r[*********************100%%**********************]  1 of 1 completed"
          ]
        },
        {
          "output_type": "stream",
          "name": "stderr",
          "text": [
            "\r100%|██████████| 49/49 [00:06<00:00,  7.17it/s]"
          ]
        },
        {
          "output_type": "stream",
          "name": "stdout",
          "text": [
            "\n"
          ]
        },
        {
          "output_type": "stream",
          "name": "stderr",
          "text": [
            "\n"
          ]
        },
        {
          "output_type": "execute_result",
          "data": {
            "text/plain": [
              "AAPL     0.020978\n",
              "MSFT     0.017107\n",
              "AMZN     0.018882\n",
              "GOOGL    0.013706\n",
              "BRK-B    0.009187\n",
              "JPM      0.010550\n",
              "JNJ      0.008001\n",
              "V        0.015675\n",
              "PG       0.007677\n",
              "MA       0.017159\n",
              "UNH      0.018096\n",
              "HD       0.016643\n",
              "VZ       0.006113\n",
              "INTC     0.007129\n",
              "DIS      0.007547\n",
              "CMCSA    0.011619\n",
              "PFE      0.006109\n",
              "ADBE     0.017517\n",
              "KO       0.007205\n",
              "T        0.005637\n",
              "NFLX     0.023562\n",
              "PEP      0.008636\n",
              "NVDA     0.029097\n",
              "ABT      0.010321\n",
              "PYPL     0.005016\n",
              "MRK      0.009207\n",
              "CRM      0.016520\n",
              "CSCO     0.006765\n",
              "TMO      0.014457\n",
              "AVGO     0.025729\n",
              "ORCL     0.010739\n",
              "COST     0.015956\n",
              "TSLA     0.032235\n",
              "ACN      0.014146\n",
              "XOM      0.005845\n",
              "BAC      0.005423\n",
              "CVX      0.007488\n",
              "WFC      0.004878\n",
              "MCD      0.011460\n",
              "QCOM     0.009370\n",
              "MDT      0.005556\n",
              "WMT      0.008242\n",
              "PM       0.008155\n",
              "LIN      0.011722\n",
              "UNP      0.013955\n",
              "UPS      0.008419\n",
              "LOW      0.015005\n",
              "BA       0.009580\n",
              "GME      0.009010\n",
              "dtype: float64"
            ]
          },
          "metadata": {},
          "execution_count": 18
        }
      ],
      "source": [
        "import pandas as pd\n",
        "import numpy as np\n",
        "from matplotlib import pyplot as plt\n",
        "import yfinance as yf\n",
        "yf.pdr_override() # <== that's all it takes :-)\n",
        "from pandas_datareader import data as wb\n",
        "import requests\n",
        "from tqdm import tqdm\n",
        "# headers\n",
        "session = requests.session()\n",
        "session.headers['User-Agent'] = 'Mozilla/5.0 (Macintosh; Intel Mac OS X 10_10_1) AppleWebKit/537.36 (KHTML, like Gecko) Chrome/39.0.2171.95 Safari/537.36'\n",
        "\n",
        "\n",
        "# load historical prices for the 50 largest US stocks\n",
        "tickers = ['AAPL', 'MSFT', 'AMZN', 'GOOGL',\n",
        "           'BRK-B', 'JPM', 'JNJ', 'V', 'PG',\n",
        "           'MA', 'UNH', 'HD', 'VZ', 'INTC',\n",
        "           'DIS', 'CMCSA', 'PFE', 'ADBE', 'KO',\n",
        "           'T', 'NFLX', 'PEP', 'NVDA', 'ABT',\n",
        "           'PYPL', 'MRK', 'CRM', 'CSCO', 'TMO',\n",
        "           'AVGO', 'ORCL', 'COST', 'TSLA', 'ACN',\n",
        "           'XOM', 'BAC', 'CVX', 'WFC', 'MCD',\n",
        "           'QCOM', 'MDT', 'WMT', 'PM', 'LIN',\n",
        "           'UNP', 'UPS', 'LOW', 'BA', 'GME']\n",
        "data = pd.DataFrame()\n",
        "for t in tqdm(tickers):\n",
        "    data[t] = wb.get_data_yahoo(t, start='2010-1-1', interval = '1mo', session = session)['Adj Close']\n",
        "\n",
        "\n",
        "# calculate the log returns\n",
        "log_returns = np.log(1 + data.pct_change())\n",
        "# compute expected returns and covariance\n",
        "mu = log_returns.mean()\n",
        "sigma = log_returns.cov()\n",
        "\n",
        "mu\n"
      ]
    },
    {
      "cell_type": "code",
      "source": [
        "data"
      ],
      "metadata": {
        "id": "PLRF2RNSOmrw",
        "outputId": "5323abdc-b5be-4feb-d210-55edb01c5720",
        "colab": {
          "base_uri": "https://localhost:8080/",
          "height": 475
        }
      },
      "id": "PLRF2RNSOmrw",
      "execution_count": null,
      "outputs": [
        {
          "output_type": "execute_result",
          "data": {
            "text/plain": [
              "                  AAPL        MSFT        AMZN       GOOGL       BRK-B  \\\n",
              "Date                                                                     \n",
              "2010-01-01    5.814478   21.373938    6.270500   13.261762   76.430000   \n",
              "2010-02-01    6.194723   21.745590    5.920000   13.183183   80.129997   \n",
              "2010-03-01    7.114455   22.319733    6.788500   14.192192   81.269997   \n",
              "2010-04-01    7.904311   23.272259    6.855000   13.155656   77.000000   \n",
              "2010-05-01    7.776856   19.660255    6.273000   12.152903   70.550003   \n",
              "...                ...         ...         ...         ...         ...   \n",
              "2023-08-01  187.369781  326.405060  138.009995  136.169998  360.200012   \n",
              "2023-09-01  170.984741  315.110443  127.120003  130.860001  350.299988   \n",
              "2023-10-01  170.545319  337.425140  133.089996  124.080002  341.329987   \n",
              "2023-11-01  189.700073  378.142517  146.089996  132.529999  360.000000   \n",
              "2023-12-01  193.191299  372.059998  146.804306  130.815903  354.459991   \n",
              "\n",
              "                   JPM         JNJ           V          PG          MA  ...  \\\n",
              "Date                                                                    ...   \n",
              "2010-01-01   27.096222   41.765217   18.554401   40.698025   23.245525  ...   \n",
              "2010-02-01   29.239721   41.858242   19.289509   42.142338   20.882971  ...   \n",
              "2010-03-01   31.176504   43.651421   20.621063   42.135693   23.640745  ...   \n",
              "2010-04-01   29.664703   43.048866   20.439840   41.396469   23.086033  ...   \n",
              "2010-05-01   27.605492   39.031860   16.414398   40.996990   18.790401  ...   \n",
              "...                ...         ...         ...         ...         ...  ...   \n",
              "2023-08-01  145.258163  159.239365  244.697937  153.371964  412.042694  ...   \n",
              "2023-09-01  143.957764  154.512650  229.521347  144.945160  395.336914  ...   \n",
              "2023-10-01  138.041412  147.161514  234.600555  149.089005  375.805206  ...   \n",
              "2023-11-01  156.080002  153.431320  256.134705  153.520004  413.829987  ...   \n",
              "2023-12-01  157.789993  158.880005  254.259995  146.684998  408.149994  ...   \n",
              "\n",
              "                  QCOM        MDT         WMT         PM         LIN  \\\n",
              "Date                                                                   \n",
              "2010-01-01   27.301733  31.176777   39.283138  23.726555   57.041924   \n",
              "2010-02-01   25.553154  31.692518   39.753666  25.535639   56.905621   \n",
              "2010-03-01   29.360958  32.882816   40.878590  27.193535   62.858208   \n",
              "2010-04-01   27.065836  31.904282   39.659828  25.871485   63.814457   \n",
              "2010-05-01   24.882650  28.740559   37.382565  23.256920   59.114223   \n",
              "...                ...        ...         ...        ...         ...   \n",
              "2023-08-01  113.006035  80.809830  162.033981  94.727539  384.576294   \n",
              "2023-09-01  110.358139  77.696419  159.929993  91.295815  369.979828   \n",
              "2023-10-01  108.301224  70.559998  163.410004  89.160004  380.982391   \n",
              "2023-11-01  128.234451  79.269997  155.690002  93.360001  412.494995   \n",
              "2023-12-01  130.550003  78.845001  155.600006  92.610001  403.975006   \n",
              "\n",
              "                   UNP         UPS         LOW          BA        GME  \n",
              "Date                                                                   \n",
              "2010-01-01   22.565012   37.793732   16.801037   47.221779   3.327787  \n",
              "2010-02-01   25.127348   38.428314   18.471334   49.216621   2.895191  \n",
              "2010-03-01   27.450737   42.487598   18.884233   56.966682   3.688002  \n",
              "2010-04-01   28.334555   45.607735   21.127909   56.825489   4.091981  \n",
              "2010-05-01   26.750420   41.399181   19.347794   50.352882   3.836128  \n",
              "...                ...         ...         ...         ...        ...  \n",
              "2023-08-01  219.286697  165.935303  229.134155  224.029999  18.549999  \n",
              "2023-09-01  203.630005  154.065704  206.626358  191.679993  16.459999  \n",
              "2023-10-01  207.610001  139.614944  189.457214  186.820007  13.770000  \n",
              "2023-11-01  225.270004  149.855026  198.830002  231.630005  14.550000  \n",
              "2023-12-01  232.050003  154.179901  205.860001  233.860001  14.985000  \n",
              "\n",
              "[168 rows x 49 columns]"
            ],
            "text/html": [
              "\n",
              "  <div id=\"df-f98a4e2a-d284-45b2-beba-d4b5067a71a6\" class=\"colab-df-container\">\n",
              "    <div>\n",
              "<style scoped>\n",
              "    .dataframe tbody tr th:only-of-type {\n",
              "        vertical-align: middle;\n",
              "    }\n",
              "\n",
              "    .dataframe tbody tr th {\n",
              "        vertical-align: top;\n",
              "    }\n",
              "\n",
              "    .dataframe thead th {\n",
              "        text-align: right;\n",
              "    }\n",
              "</style>\n",
              "<table border=\"1\" class=\"dataframe\">\n",
              "  <thead>\n",
              "    <tr style=\"text-align: right;\">\n",
              "      <th></th>\n",
              "      <th>AAPL</th>\n",
              "      <th>MSFT</th>\n",
              "      <th>AMZN</th>\n",
              "      <th>GOOGL</th>\n",
              "      <th>BRK-B</th>\n",
              "      <th>JPM</th>\n",
              "      <th>JNJ</th>\n",
              "      <th>V</th>\n",
              "      <th>PG</th>\n",
              "      <th>MA</th>\n",
              "      <th>...</th>\n",
              "      <th>QCOM</th>\n",
              "      <th>MDT</th>\n",
              "      <th>WMT</th>\n",
              "      <th>PM</th>\n",
              "      <th>LIN</th>\n",
              "      <th>UNP</th>\n",
              "      <th>UPS</th>\n",
              "      <th>LOW</th>\n",
              "      <th>BA</th>\n",
              "      <th>GME</th>\n",
              "    </tr>\n",
              "    <tr>\n",
              "      <th>Date</th>\n",
              "      <th></th>\n",
              "      <th></th>\n",
              "      <th></th>\n",
              "      <th></th>\n",
              "      <th></th>\n",
              "      <th></th>\n",
              "      <th></th>\n",
              "      <th></th>\n",
              "      <th></th>\n",
              "      <th></th>\n",
              "      <th></th>\n",
              "      <th></th>\n",
              "      <th></th>\n",
              "      <th></th>\n",
              "      <th></th>\n",
              "      <th></th>\n",
              "      <th></th>\n",
              "      <th></th>\n",
              "      <th></th>\n",
              "      <th></th>\n",
              "      <th></th>\n",
              "    </tr>\n",
              "  </thead>\n",
              "  <tbody>\n",
              "    <tr>\n",
              "      <th>2010-01-01</th>\n",
              "      <td>5.814478</td>\n",
              "      <td>21.373938</td>\n",
              "      <td>6.270500</td>\n",
              "      <td>13.261762</td>\n",
              "      <td>76.430000</td>\n",
              "      <td>27.096222</td>\n",
              "      <td>41.765217</td>\n",
              "      <td>18.554401</td>\n",
              "      <td>40.698025</td>\n",
              "      <td>23.245525</td>\n",
              "      <td>...</td>\n",
              "      <td>27.301733</td>\n",
              "      <td>31.176777</td>\n",
              "      <td>39.283138</td>\n",
              "      <td>23.726555</td>\n",
              "      <td>57.041924</td>\n",
              "      <td>22.565012</td>\n",
              "      <td>37.793732</td>\n",
              "      <td>16.801037</td>\n",
              "      <td>47.221779</td>\n",
              "      <td>3.327787</td>\n",
              "    </tr>\n",
              "    <tr>\n",
              "      <th>2010-02-01</th>\n",
              "      <td>6.194723</td>\n",
              "      <td>21.745590</td>\n",
              "      <td>5.920000</td>\n",
              "      <td>13.183183</td>\n",
              "      <td>80.129997</td>\n",
              "      <td>29.239721</td>\n",
              "      <td>41.858242</td>\n",
              "      <td>19.289509</td>\n",
              "      <td>42.142338</td>\n",
              "      <td>20.882971</td>\n",
              "      <td>...</td>\n",
              "      <td>25.553154</td>\n",
              "      <td>31.692518</td>\n",
              "      <td>39.753666</td>\n",
              "      <td>25.535639</td>\n",
              "      <td>56.905621</td>\n",
              "      <td>25.127348</td>\n",
              "      <td>38.428314</td>\n",
              "      <td>18.471334</td>\n",
              "      <td>49.216621</td>\n",
              "      <td>2.895191</td>\n",
              "    </tr>\n",
              "    <tr>\n",
              "      <th>2010-03-01</th>\n",
              "      <td>7.114455</td>\n",
              "      <td>22.319733</td>\n",
              "      <td>6.788500</td>\n",
              "      <td>14.192192</td>\n",
              "      <td>81.269997</td>\n",
              "      <td>31.176504</td>\n",
              "      <td>43.651421</td>\n",
              "      <td>20.621063</td>\n",
              "      <td>42.135693</td>\n",
              "      <td>23.640745</td>\n",
              "      <td>...</td>\n",
              "      <td>29.360958</td>\n",
              "      <td>32.882816</td>\n",
              "      <td>40.878590</td>\n",
              "      <td>27.193535</td>\n",
              "      <td>62.858208</td>\n",
              "      <td>27.450737</td>\n",
              "      <td>42.487598</td>\n",
              "      <td>18.884233</td>\n",
              "      <td>56.966682</td>\n",
              "      <td>3.688002</td>\n",
              "    </tr>\n",
              "    <tr>\n",
              "      <th>2010-04-01</th>\n",
              "      <td>7.904311</td>\n",
              "      <td>23.272259</td>\n",
              "      <td>6.855000</td>\n",
              "      <td>13.155656</td>\n",
              "      <td>77.000000</td>\n",
              "      <td>29.664703</td>\n",
              "      <td>43.048866</td>\n",
              "      <td>20.439840</td>\n",
              "      <td>41.396469</td>\n",
              "      <td>23.086033</td>\n",
              "      <td>...</td>\n",
              "      <td>27.065836</td>\n",
              "      <td>31.904282</td>\n",
              "      <td>39.659828</td>\n",
              "      <td>25.871485</td>\n",
              "      <td>63.814457</td>\n",
              "      <td>28.334555</td>\n",
              "      <td>45.607735</td>\n",
              "      <td>21.127909</td>\n",
              "      <td>56.825489</td>\n",
              "      <td>4.091981</td>\n",
              "    </tr>\n",
              "    <tr>\n",
              "      <th>2010-05-01</th>\n",
              "      <td>7.776856</td>\n",
              "      <td>19.660255</td>\n",
              "      <td>6.273000</td>\n",
              "      <td>12.152903</td>\n",
              "      <td>70.550003</td>\n",
              "      <td>27.605492</td>\n",
              "      <td>39.031860</td>\n",
              "      <td>16.414398</td>\n",
              "      <td>40.996990</td>\n",
              "      <td>18.790401</td>\n",
              "      <td>...</td>\n",
              "      <td>24.882650</td>\n",
              "      <td>28.740559</td>\n",
              "      <td>37.382565</td>\n",
              "      <td>23.256920</td>\n",
              "      <td>59.114223</td>\n",
              "      <td>26.750420</td>\n",
              "      <td>41.399181</td>\n",
              "      <td>19.347794</td>\n",
              "      <td>50.352882</td>\n",
              "      <td>3.836128</td>\n",
              "    </tr>\n",
              "    <tr>\n",
              "      <th>...</th>\n",
              "      <td>...</td>\n",
              "      <td>...</td>\n",
              "      <td>...</td>\n",
              "      <td>...</td>\n",
              "      <td>...</td>\n",
              "      <td>...</td>\n",
              "      <td>...</td>\n",
              "      <td>...</td>\n",
              "      <td>...</td>\n",
              "      <td>...</td>\n",
              "      <td>...</td>\n",
              "      <td>...</td>\n",
              "      <td>...</td>\n",
              "      <td>...</td>\n",
              "      <td>...</td>\n",
              "      <td>...</td>\n",
              "      <td>...</td>\n",
              "      <td>...</td>\n",
              "      <td>...</td>\n",
              "      <td>...</td>\n",
              "      <td>...</td>\n",
              "    </tr>\n",
              "    <tr>\n",
              "      <th>2023-08-01</th>\n",
              "      <td>187.369781</td>\n",
              "      <td>326.405060</td>\n",
              "      <td>138.009995</td>\n",
              "      <td>136.169998</td>\n",
              "      <td>360.200012</td>\n",
              "      <td>145.258163</td>\n",
              "      <td>159.239365</td>\n",
              "      <td>244.697937</td>\n",
              "      <td>153.371964</td>\n",
              "      <td>412.042694</td>\n",
              "      <td>...</td>\n",
              "      <td>113.006035</td>\n",
              "      <td>80.809830</td>\n",
              "      <td>162.033981</td>\n",
              "      <td>94.727539</td>\n",
              "      <td>384.576294</td>\n",
              "      <td>219.286697</td>\n",
              "      <td>165.935303</td>\n",
              "      <td>229.134155</td>\n",
              "      <td>224.029999</td>\n",
              "      <td>18.549999</td>\n",
              "    </tr>\n",
              "    <tr>\n",
              "      <th>2023-09-01</th>\n",
              "      <td>170.984741</td>\n",
              "      <td>315.110443</td>\n",
              "      <td>127.120003</td>\n",
              "      <td>130.860001</td>\n",
              "      <td>350.299988</td>\n",
              "      <td>143.957764</td>\n",
              "      <td>154.512650</td>\n",
              "      <td>229.521347</td>\n",
              "      <td>144.945160</td>\n",
              "      <td>395.336914</td>\n",
              "      <td>...</td>\n",
              "      <td>110.358139</td>\n",
              "      <td>77.696419</td>\n",
              "      <td>159.929993</td>\n",
              "      <td>91.295815</td>\n",
              "      <td>369.979828</td>\n",
              "      <td>203.630005</td>\n",
              "      <td>154.065704</td>\n",
              "      <td>206.626358</td>\n",
              "      <td>191.679993</td>\n",
              "      <td>16.459999</td>\n",
              "    </tr>\n",
              "    <tr>\n",
              "      <th>2023-10-01</th>\n",
              "      <td>170.545319</td>\n",
              "      <td>337.425140</td>\n",
              "      <td>133.089996</td>\n",
              "      <td>124.080002</td>\n",
              "      <td>341.329987</td>\n",
              "      <td>138.041412</td>\n",
              "      <td>147.161514</td>\n",
              "      <td>234.600555</td>\n",
              "      <td>149.089005</td>\n",
              "      <td>375.805206</td>\n",
              "      <td>...</td>\n",
              "      <td>108.301224</td>\n",
              "      <td>70.559998</td>\n",
              "      <td>163.410004</td>\n",
              "      <td>89.160004</td>\n",
              "      <td>380.982391</td>\n",
              "      <td>207.610001</td>\n",
              "      <td>139.614944</td>\n",
              "      <td>189.457214</td>\n",
              "      <td>186.820007</td>\n",
              "      <td>13.770000</td>\n",
              "    </tr>\n",
              "    <tr>\n",
              "      <th>2023-11-01</th>\n",
              "      <td>189.700073</td>\n",
              "      <td>378.142517</td>\n",
              "      <td>146.089996</td>\n",
              "      <td>132.529999</td>\n",
              "      <td>360.000000</td>\n",
              "      <td>156.080002</td>\n",
              "      <td>153.431320</td>\n",
              "      <td>256.134705</td>\n",
              "      <td>153.520004</td>\n",
              "      <td>413.829987</td>\n",
              "      <td>...</td>\n",
              "      <td>128.234451</td>\n",
              "      <td>79.269997</td>\n",
              "      <td>155.690002</td>\n",
              "      <td>93.360001</td>\n",
              "      <td>412.494995</td>\n",
              "      <td>225.270004</td>\n",
              "      <td>149.855026</td>\n",
              "      <td>198.830002</td>\n",
              "      <td>231.630005</td>\n",
              "      <td>14.550000</td>\n",
              "    </tr>\n",
              "    <tr>\n",
              "      <th>2023-12-01</th>\n",
              "      <td>193.191299</td>\n",
              "      <td>372.059998</td>\n",
              "      <td>146.804306</td>\n",
              "      <td>130.815903</td>\n",
              "      <td>354.459991</td>\n",
              "      <td>157.789993</td>\n",
              "      <td>158.880005</td>\n",
              "      <td>254.259995</td>\n",
              "      <td>146.684998</td>\n",
              "      <td>408.149994</td>\n",
              "      <td>...</td>\n",
              "      <td>130.550003</td>\n",
              "      <td>78.845001</td>\n",
              "      <td>155.600006</td>\n",
              "      <td>92.610001</td>\n",
              "      <td>403.975006</td>\n",
              "      <td>232.050003</td>\n",
              "      <td>154.179901</td>\n",
              "      <td>205.860001</td>\n",
              "      <td>233.860001</td>\n",
              "      <td>14.985000</td>\n",
              "    </tr>\n",
              "  </tbody>\n",
              "</table>\n",
              "<p>168 rows × 49 columns</p>\n",
              "</div>\n",
              "    <div class=\"colab-df-buttons\">\n",
              "\n",
              "  <div class=\"colab-df-container\">\n",
              "    <button class=\"colab-df-convert\" onclick=\"convertToInteractive('df-f98a4e2a-d284-45b2-beba-d4b5067a71a6')\"\n",
              "            title=\"Convert this dataframe to an interactive table.\"\n",
              "            style=\"display:none;\">\n",
              "\n",
              "  <svg xmlns=\"http://www.w3.org/2000/svg\" height=\"24px\" viewBox=\"0 -960 960 960\">\n",
              "    <path d=\"M120-120v-720h720v720H120Zm60-500h600v-160H180v160Zm220 220h160v-160H400v160Zm0 220h160v-160H400v160ZM180-400h160v-160H180v160Zm440 0h160v-160H620v160ZM180-180h160v-160H180v160Zm440 0h160v-160H620v160Z\"/>\n",
              "  </svg>\n",
              "    </button>\n",
              "\n",
              "  <style>\n",
              "    .colab-df-container {\n",
              "      display:flex;\n",
              "      gap: 12px;\n",
              "    }\n",
              "\n",
              "    .colab-df-convert {\n",
              "      background-color: #E8F0FE;\n",
              "      border: none;\n",
              "      border-radius: 50%;\n",
              "      cursor: pointer;\n",
              "      display: none;\n",
              "      fill: #1967D2;\n",
              "      height: 32px;\n",
              "      padding: 0 0 0 0;\n",
              "      width: 32px;\n",
              "    }\n",
              "\n",
              "    .colab-df-convert:hover {\n",
              "      background-color: #E2EBFA;\n",
              "      box-shadow: 0px 1px 2px rgba(60, 64, 67, 0.3), 0px 1px 3px 1px rgba(60, 64, 67, 0.15);\n",
              "      fill: #174EA6;\n",
              "    }\n",
              "\n",
              "    .colab-df-buttons div {\n",
              "      margin-bottom: 4px;\n",
              "    }\n",
              "\n",
              "    [theme=dark] .colab-df-convert {\n",
              "      background-color: #3B4455;\n",
              "      fill: #D2E3FC;\n",
              "    }\n",
              "\n",
              "    [theme=dark] .colab-df-convert:hover {\n",
              "      background-color: #434B5C;\n",
              "      box-shadow: 0px 1px 3px 1px rgba(0, 0, 0, 0.15);\n",
              "      filter: drop-shadow(0px 1px 2px rgba(0, 0, 0, 0.3));\n",
              "      fill: #FFFFFF;\n",
              "    }\n",
              "  </style>\n",
              "\n",
              "    <script>\n",
              "      const buttonEl =\n",
              "        document.querySelector('#df-f98a4e2a-d284-45b2-beba-d4b5067a71a6 button.colab-df-convert');\n",
              "      buttonEl.style.display =\n",
              "        google.colab.kernel.accessAllowed ? 'block' : 'none';\n",
              "\n",
              "      async function convertToInteractive(key) {\n",
              "        const element = document.querySelector('#df-f98a4e2a-d284-45b2-beba-d4b5067a71a6');\n",
              "        const dataTable =\n",
              "          await google.colab.kernel.invokeFunction('convertToInteractive',\n",
              "                                                    [key], {});\n",
              "        if (!dataTable) return;\n",
              "\n",
              "        const docLinkHtml = 'Like what you see? Visit the ' +\n",
              "          '<a target=\"_blank\" href=https://colab.research.google.com/notebooks/data_table.ipynb>data table notebook</a>'\n",
              "          + ' to learn more about interactive tables.';\n",
              "        element.innerHTML = '';\n",
              "        dataTable['output_type'] = 'display_data';\n",
              "        await google.colab.output.renderOutput(dataTable, element);\n",
              "        const docLink = document.createElement('div');\n",
              "        docLink.innerHTML = docLinkHtml;\n",
              "        element.appendChild(docLink);\n",
              "      }\n",
              "    </script>\n",
              "  </div>\n",
              "\n",
              "\n",
              "<div id=\"df-6c88d545-2d38-40b8-bfcb-88a5d2a0db52\">\n",
              "  <button class=\"colab-df-quickchart\" onclick=\"quickchart('df-6c88d545-2d38-40b8-bfcb-88a5d2a0db52')\"\n",
              "            title=\"Suggest charts\"\n",
              "            style=\"display:none;\">\n",
              "\n",
              "<svg xmlns=\"http://www.w3.org/2000/svg\" height=\"24px\"viewBox=\"0 0 24 24\"\n",
              "     width=\"24px\">\n",
              "    <g>\n",
              "        <path d=\"M19 3H5c-1.1 0-2 .9-2 2v14c0 1.1.9 2 2 2h14c1.1 0 2-.9 2-2V5c0-1.1-.9-2-2-2zM9 17H7v-7h2v7zm4 0h-2V7h2v10zm4 0h-2v-4h2v4z\"/>\n",
              "    </g>\n",
              "</svg>\n",
              "  </button>\n",
              "\n",
              "<style>\n",
              "  .colab-df-quickchart {\n",
              "      --bg-color: #E8F0FE;\n",
              "      --fill-color: #1967D2;\n",
              "      --hover-bg-color: #E2EBFA;\n",
              "      --hover-fill-color: #174EA6;\n",
              "      --disabled-fill-color: #AAA;\n",
              "      --disabled-bg-color: #DDD;\n",
              "  }\n",
              "\n",
              "  [theme=dark] .colab-df-quickchart {\n",
              "      --bg-color: #3B4455;\n",
              "      --fill-color: #D2E3FC;\n",
              "      --hover-bg-color: #434B5C;\n",
              "      --hover-fill-color: #FFFFFF;\n",
              "      --disabled-bg-color: #3B4455;\n",
              "      --disabled-fill-color: #666;\n",
              "  }\n",
              "\n",
              "  .colab-df-quickchart {\n",
              "    background-color: var(--bg-color);\n",
              "    border: none;\n",
              "    border-radius: 50%;\n",
              "    cursor: pointer;\n",
              "    display: none;\n",
              "    fill: var(--fill-color);\n",
              "    height: 32px;\n",
              "    padding: 0;\n",
              "    width: 32px;\n",
              "  }\n",
              "\n",
              "  .colab-df-quickchart:hover {\n",
              "    background-color: var(--hover-bg-color);\n",
              "    box-shadow: 0 1px 2px rgba(60, 64, 67, 0.3), 0 1px 3px 1px rgba(60, 64, 67, 0.15);\n",
              "    fill: var(--button-hover-fill-color);\n",
              "  }\n",
              "\n",
              "  .colab-df-quickchart-complete:disabled,\n",
              "  .colab-df-quickchart-complete:disabled:hover {\n",
              "    background-color: var(--disabled-bg-color);\n",
              "    fill: var(--disabled-fill-color);\n",
              "    box-shadow: none;\n",
              "  }\n",
              "\n",
              "  .colab-df-spinner {\n",
              "    border: 2px solid var(--fill-color);\n",
              "    border-color: transparent;\n",
              "    border-bottom-color: var(--fill-color);\n",
              "    animation:\n",
              "      spin 1s steps(1) infinite;\n",
              "  }\n",
              "\n",
              "  @keyframes spin {\n",
              "    0% {\n",
              "      border-color: transparent;\n",
              "      border-bottom-color: var(--fill-color);\n",
              "      border-left-color: var(--fill-color);\n",
              "    }\n",
              "    20% {\n",
              "      border-color: transparent;\n",
              "      border-left-color: var(--fill-color);\n",
              "      border-top-color: var(--fill-color);\n",
              "    }\n",
              "    30% {\n",
              "      border-color: transparent;\n",
              "      border-left-color: var(--fill-color);\n",
              "      border-top-color: var(--fill-color);\n",
              "      border-right-color: var(--fill-color);\n",
              "    }\n",
              "    40% {\n",
              "      border-color: transparent;\n",
              "      border-right-color: var(--fill-color);\n",
              "      border-top-color: var(--fill-color);\n",
              "    }\n",
              "    60% {\n",
              "      border-color: transparent;\n",
              "      border-right-color: var(--fill-color);\n",
              "    }\n",
              "    80% {\n",
              "      border-color: transparent;\n",
              "      border-right-color: var(--fill-color);\n",
              "      border-bottom-color: var(--fill-color);\n",
              "    }\n",
              "    90% {\n",
              "      border-color: transparent;\n",
              "      border-bottom-color: var(--fill-color);\n",
              "    }\n",
              "  }\n",
              "</style>\n",
              "\n",
              "  <script>\n",
              "    async function quickchart(key) {\n",
              "      const quickchartButtonEl =\n",
              "        document.querySelector('#' + key + ' button');\n",
              "      quickchartButtonEl.disabled = true;  // To prevent multiple clicks.\n",
              "      quickchartButtonEl.classList.add('colab-df-spinner');\n",
              "      try {\n",
              "        const charts = await google.colab.kernel.invokeFunction(\n",
              "            'suggestCharts', [key], {});\n",
              "      } catch (error) {\n",
              "        console.error('Error during call to suggestCharts:', error);\n",
              "      }\n",
              "      quickchartButtonEl.classList.remove('colab-df-spinner');\n",
              "      quickchartButtonEl.classList.add('colab-df-quickchart-complete');\n",
              "    }\n",
              "    (() => {\n",
              "      let quickchartButtonEl =\n",
              "        document.querySelector('#df-6c88d545-2d38-40b8-bfcb-88a5d2a0db52 button');\n",
              "      quickchartButtonEl.style.display =\n",
              "        google.colab.kernel.accessAllowed ? 'block' : 'none';\n",
              "    })();\n",
              "  </script>\n",
              "</div>\n",
              "    </div>\n",
              "  </div>\n"
            ]
          },
          "metadata": {},
          "execution_count": 19
        }
      ]
    },
    {
      "cell_type": "markdown",
      "id": "8b37450c",
      "metadata": {
        "id": "8b37450c"
      },
      "source": [
        "Data on common factors, data cleaning and optimization"
      ]
    },
    {
      "cell_type": "code",
      "execution_count": null,
      "id": "32a85d49",
      "metadata": {
        "id": "32a85d49"
      },
      "outputs": [],
      "source": [
        "# convert index from yyy-mm-dd to yyy-mm\n",
        "data.index = data.index.strftime('%Y-%m')\n",
        "\n",
        "\n",
        "# %%\n",
        "# download zip folder in url and load file inside to csv\n",
        "url = 'https://mba.tuck.dartmouth.edu/pages/faculty/ken.french/ftp/F-F_Research_Data_5_Factors_2x3_CSV.zip'\n",
        "import requests\n",
        "import zipfile\n",
        "import io\n",
        "r = requests.get(url)\n",
        "z = zipfile.ZipFile(io.BytesIO(r.content))\n",
        "z.extractall()\n",
        "\n",
        "# %%\n",
        "# read the csv file starting from the 4th row and finishing in the first empty row found\n",
        "factors = pd.read_csv('F-F_Research_Data_5_Factors_2x3.csv', skiprows=3, nrows=712, index_col=0, parse_dates=True)\n",
        "\n",
        "# %%\n",
        "# factors' index is yyymm format, convert it to yyyy-mm\n",
        "factors.index = factors.index.astype(str).str[:-2] + '-' + factors.index.astype(str).str[-2:]\n",
        "# rename index to Date\n",
        "factors.index.name = 'Date'\n",
        "\n",
        "# convert the date of log_returns to yyyy-mm\n",
        "log_returns.index = log_returns.index.strftime('%Y-%m')\n",
        "\n",
        "# merge factors and log_returns on Date\n",
        "df = pd.merge(factors, log_returns, on='Date')\n",
        "\n",
        "# import sm\n",
        "import statsmodels.api as sm\n",
        "# drop NaN values\n",
        "df = df.dropna()\n",
        "# for each ticker, compute the beta with respect to the 5 factors\n",
        "B = np.zeros((len(tickers), 5))\n",
        "for i, t in enumerate(tickers):\n",
        "    # compute the regression\n",
        "    X = df[['Mkt-RF', 'SMB', 'HML', 'RMW', 'CMA']]\n",
        "    X = X/100\n",
        "    y = df[t]\n",
        "    X = sm.add_constant(X)\n",
        "    model = sm.OLS(y, X).fit()\n",
        "    # store the betas\n",
        "    B[i, :] = model.params[1:]\n",
        "\n",
        "from scipy.optimize import minimize\n",
        "from scipy.optimize import NonlinearConstraint\n",
        "\n",
        "# sigma and mu to numpy\n",
        "sigma = sigma.to_numpy()\n",
        "mu = mu.to_numpy()\n",
        "\n",
        "\n",
        "# correlation matrix\n",
        "C = sigma / np.sqrt(np.diag(sigma)) / np.sqrt(np.diag(sigma)).reshape(-1, 1)\n",
        "\n",
        "\n",
        "\n",
        "\n"
      ]
    },
    {
      "cell_type": "code",
      "source": [
        "\n",
        "# for an alpha of 0.05 compute the inverse of the cumulative distribution function of a standard normal\n",
        "alpha = 0.05\n",
        "# import norm\n",
        "from scipy.stats import norm\n",
        "eta = -norm.ppf(alpha)\n",
        "\n",
        "# V is eta times the square root of the diagonal of sigma\n",
        "V = eta * np.sqrt(np.diag(np.diag(sigma)))\n",
        "\n",
        "N = len(tickers)\n",
        "# We include all decision variables in a single vector x\n",
        "# first N elements are the weights of the portfolio\n",
        "# second N elements are the weights of the long positions\n",
        "# third N elements are the weights of the short positions\n",
        "# last element is cash\n",
        "\n",
        "# objective function and Parameters\n",
        "gamma = 2\n",
        "L = 1.5\n",
        "beta_bar = np.array([0.0, 0.0, 0.0, 0.0, 0.0])\n",
        "beta_ub = np.array([1.0, 1.0, 1.0, 1.0, 1.0])*0.5\n",
        "beta_lb = np.array([1.0, 1.0, 1.0, 1.0, 1.0])*0.5\n",
        "u_b = 0.2 # upper bound for theta\n",
        "l_b = -0.2 # lower bound for theta\n",
        "VaR_max = 1.9 # large loss in terms of % of portfolio value\n",
        "U = lambda x : 1000*(x[:N].T @ mu \\\n",
        "    - 0.5*gamma *x[:N].T @ sigma @ x[:N])\n",
        "\n",
        "# example, equally weighted portfolio\n",
        "x_test = np.concatenate((np.ones(N)/N, np.ones(N)/N, np.zeros(N), [0]))\n",
        "U(x_test)\n"
      ],
      "metadata": {
        "colab": {
          "base_uri": "https://localhost:8080/"
        },
        "id": "h4acdbc7KtrM",
        "outputId": "12ebebfc-af36-4629-ce74-939956aec0b8"
      },
      "id": "h4acdbc7KtrM",
      "execution_count": null,
      "outputs": [
        {
          "output_type": "execute_result",
          "data": {
            "text/plain": [
              "10.388090340265324"
            ]
          },
          "metadata": {},
          "execution_count": 21
        }
      ]
    },
    {
      "cell_type": "code",
      "source": [
        "#%%\n",
        "constraints = []\n",
        "# Sum of weights = 1\n",
        "constraints.append(NonlinearConstraint(\\\n",
        "    lambda x: np.sum(x[:N]) + x[-1], 1, 1))\n",
        "\n",
        "# theta is expressed as the long minus the short position\n",
        "\n",
        "constraints.append(NonlinearConstraint(\\\n",
        "    lambda x: x[:N] - (x[N:2*N]- x[2*N:3*N]), 0, 0))\n",
        "\n",
        "# the long and short positions are non-negative\n",
        "\n",
        "constraints.append(NonlinearConstraint(\\\n",
        "    lambda x: x[N:2*N], 0, np.inf))\n",
        "\n",
        "\n",
        "constraints.append(NonlinearConstraint(\\\n",
        "    lambda x: x[2*N:3*N], 0, np.inf))\n",
        "\n",
        "# positive cash\n",
        "\n",
        "constraints.append(NonlinearConstraint(\\\n",
        "    lambda x: x[-1], 0, np.inf))\n",
        "\n",
        "constraints.append(NonlinearConstraint(\\\n",
        "        lambda x: x[:N], l_b*np.ones(N), u_b*np.ones(N)))\n",
        "\n",
        "# leverage constraint\n",
        "constraints.append(NonlinearConstraint(\\\n",
        "    lambda x: np.sum(x[N:2*N]) + np.sum(x[2*N:3*N]), 0, L))\n",
        "\n",
        "# Factor exposure constraint\n",
        "constraints.append(NonlinearConstraint(\\\n",
        "    lambda x: B.T @ x[:N], beta_bar-beta_lb, beta_bar+beta_ub))\n",
        "\n",
        "# VaR constraint\n",
        "constraints.append(NonlinearConstraint(\\\n",
        "    lambda x: np.sqrt(x[:N].T @ V @ C @ V @ x[:N]), 0, VaR_max))\n",
        "\n",
        "solution = minimize(\n",
        "    # objective function\n",
        "    lambda x : -U(x),\n",
        "    # initial value\n",
        "    #x0 = np.concatenate((np.ones(N)/N, np.ones(N)/N, np.zeros(N), [0])),\n",
        "    x0 = np.zeros(3*N+1),\n",
        "    # constraints\n",
        "    constraints = constraints)\n",
        "\n",
        "if solution.success:\n",
        "  # print the results of the optimization nicely\n",
        "  x = solution.x\n",
        "  print('Optimal weights')\n",
        "  print(\"----------------\")\n",
        "  print(\"Long positions\")\n",
        "  for i, t in enumerate(tickers):\n",
        "      if x[N+i] > 1e-5:\n",
        "          # print the ticker and the weight rounding decimals\n",
        "          print(t, round(x[N+i], 3))\n",
        "\n",
        "  print(\"----------------\")\n",
        "  print(\"Short positions\")\n",
        "  for i, t in enumerate(tickers):\n",
        "      if x[2*N+i] > 1e-5:\n",
        "          # print the ticker and the weight rounding decimals\n",
        "          print(t, round(x[2*N+i], 3))\n",
        "  print(\"----------------\")\n",
        "  print(\"Cash\", round(x[-1], 3))\n",
        "  print(\"----------------\")\n",
        "  # what is the exposure to the factors?\n",
        "  print(\"Exposure to the factors\")\n",
        "  print(\"-----------------------\")\n",
        "  exp = B.T @ x[:N]\n",
        "  print(\"Mkt-RF\", round(exp[0], 3))\n",
        "  print(\"SMB\", round(exp[1], 3))\n",
        "  print(\"HML\", round(exp[2], 3))\n",
        "  print(\"RMW\", round(exp[3], 3))\n",
        "  print(\"CMA\", round(exp[4], 3))\n",
        "\n",
        "  # compute the VaR of the portfolio\n",
        "  VaR = np.sqrt(x[:N].T @ V @ C @ V @ x[:N])\n",
        "  # print results\n",
        "  print(\"VaR\", round(VaR, 3))\n",
        "else:\n",
        "  print(\"Optimal Solution Not Found\")\n"
      ],
      "metadata": {
        "colab": {
          "base_uri": "https://localhost:8080/"
        },
        "id": "OaWO5jKfhgd7",
        "outputId": "52f10e11-8404-47bf-d16d-d39e4ef750ad"
      },
      "id": "OaWO5jKfhgd7",
      "execution_count": null,
      "outputs": [
        {
          "output_type": "stream",
          "name": "stdout",
          "text": [
            "Optimal weights\n",
            "----------------\n",
            "Long positions\n",
            "MSFT 0.092\n",
            "UNH 0.2\n",
            "HD 0.154\n",
            "NFLX 0.081\n",
            "NVDA 0.097\n",
            "AVGO 0.2\n",
            "COST 0.086\n",
            "TSLA 0.124\n",
            "----------------\n",
            "Short positions\n",
            "PYPL 0.2\n",
            "CSCO 0.001\n",
            "BAC 0.2\n",
            "WFC 0.021\n",
            "QCOM 0.017\n",
            "GME 0.028\n",
            "----------------\n",
            "Cash 0.432\n",
            "----------------\n",
            "Exposure to the factors\n",
            "-----------------------\n",
            "Mkt-RF 0.5\n",
            "SMB -0.093\n",
            "HML -0.5\n",
            "RMW 0.5\n",
            "CMA -0.014\n",
            "VaR 0.072\n"
          ]
        }
      ]
    },
    {
      "cell_type": "markdown",
      "source": [
        "# MIP Formulation\n",
        "\n",
        "- Assume that now we require to have at least $n_s$ short stocks, we will see how we can obtain the optimal solution using a free version of the comercial solver Gurobi\n"
      ],
      "metadata": {
        "id": "lG8YXvGOOn1N"
      },
      "id": "lG8YXvGOOn1N"
    },
    {
      "cell_type": "code",
      "source": [
        "!pip install gurobipy\n",
        "import gurobipy as gp\n",
        "from gurobipy import GRB\n",
        "\n",
        "# the free license has a limit on variables, we will use only 10 stocks, and require minimum 2 short stocks, we will also remove the factor constraint as it is the \"hardest\"\n",
        "# we will use the first 30 stocks\n",
        "\n",
        "N = 30\n",
        "ns = 2\n",
        "\n",
        "M = 1E9\n",
        "try:\n",
        "    indices = range(N)\n",
        "    tick_names = tickers[:N]\n",
        "    # Create a new model\n",
        "    model = gp.Model(\"Risk Management\")\n",
        "\n",
        "    model.params.NonConvex = 2\n",
        "\n",
        "    # Create variables\n",
        "    x     = model.addVars(indices, vtype=GRB.BINARY, name=\"x\")\n",
        "    x_pos = model.addVars(indices, vtype=GRB.BINARY, name=\"x_pos\")\n",
        "    x_neg = model.addVars(indices, vtype=GRB.BINARY, name=\"x_neg\")\n",
        "\n",
        "    theta      = model.addVars(indices, lb = l_b, ub = u_b)\n",
        "    theta_pos  = model.addVars(indices, lb = 0,   ub = u_b)\n",
        "    theta_neg  = model.addVars(indices, lb = 0,   ub = -l_b)\n",
        "\n",
        "    theta_cash = model.addVar(lb = 0,   ub = float('inf'), name = \"cash\")\n",
        "\n",
        "    # Budget constraint\n",
        "    model.addConstr(theta.sum()+theta_cash == 1.0)\n",
        "\n",
        "    # Long-Short definitions\n",
        "    for i in range(N):\n",
        "        model.addConstr(theta[i]                    == theta_pos[i] - theta_neg[i])\n",
        "        model.addConstr(x[i]                        == x_pos[i]     + x_neg[i])\n",
        "        model.addConstr(M*theta_pos[i]              >= x_pos[i])\n",
        "        model.addConstr(theta_pos[i]                <= M*x_pos[i])\n",
        "        model.addConstr(M*theta_neg[i]              >= x_neg[i])\n",
        "        model.addConstr(theta_neg[i]                <= M*x_neg[i])\n",
        "\n",
        "    #Leverage\n",
        "    model.addConstr(theta_pos.sum() + theta_neg.sum() <= L)\n",
        "\n",
        "    # VaR\n",
        "    V_C_V = V @ C @ V\n",
        "\n",
        "    #model.addConstr(gp.quicksum(theta[i]*V_C_V[i,j]*theta[j] for i in range(N) for j in range(N)) <= VaR_max**2)\n",
        "\n",
        "    # minimum 5 short sales\n",
        "\n",
        "    model.addConstr(gp.quicksum(x_neg[i] for i in range(N))>=ns)\n",
        "\n",
        "    # Set objective\n",
        "    model.setObjective(gp.quicksum(theta[i]*mu[i] for i in range(N)) - 0.5*gamma*gp.quicksum(theta[i]*sigma[i,j]*theta[j] for i in range(N) for j in range(N)), GRB.MAXIMIZE)\n",
        "\n",
        "    # Optimize model\n",
        "    model.optimize()\n",
        "\n",
        "    vars = model.getVars()\n",
        "\n",
        "    vars = vars[3*N:4*N] # first 3*N vars are the binary ones\n",
        "\n",
        "    for (name, var) in zip(tick_names, vars):\n",
        "      print(f\"Ticker: {name} - Position: {round(var.X*100,2)} %\")\n",
        "\n",
        "    #for v in model.getVars():\n",
        "    #    print('%s %g' % (v.VarName, v.X))\n",
        "\n",
        "    print('Obj: %g' % model.ObjVal)\n",
        "\n",
        "except gp.GurobiError as e:\n",
        "    print('Error code ' + str(e.errno) + ': ' + str(e))\n",
        "\n",
        "except AttributeError:\n",
        "    print('Encountered an attribute error')"
      ],
      "metadata": {
        "colab": {
          "base_uri": "https://localhost:8080/",
          "height": 860
        },
        "id": "9oZMads4PJD8",
        "outputId": "2ade2273-1e96-4816-c6b9-6308c638f67e"
      },
      "id": "9oZMads4PJD8",
      "execution_count": null,
      "outputs": [
        {
          "output_type": "stream",
          "name": "stdout",
          "text": [
            "Traceback (most recent call last):\n",
            "  File \"/usr/local/bin/pip3\", line 5, in <module>\n",
            "    from pip._internal.cli.main import main\n",
            "  File \"/usr/lib/python3/dist-packages/pip/_internal/cli/main.py\", line 9, in <module>\n",
            "    from pip._internal.cli.autocompletion import autocomplete\n",
            "  File \"/usr/lib/python3/dist-packages/pip/_internal/cli/autocompletion.py\", line 10, in <module>\n",
            "    from pip._internal.cli.main_parser import create_main_parser\n",
            "  File \"/usr/lib/python3/dist-packages/pip/_internal/cli/main_parser.py\", line 8, in <module>\n",
            "    from pip._internal.cli import cmdoptions\n",
            "  File \"/usr/lib/python3/dist-packages/pip/_internal/cli/cmdoptions.py\", line 23, in <module>\n",
            "    from pip._internal.cli.parser import ConfigOptionParser\n",
            "  File \"/usr/lib/python3/dist-packages/pip/_internal/cli/parser.py\", line 12, in <module>\n",
            "    from pip._internal.configuration import Configuration, ConfigurationError\n",
            "  File \"/usr/lib/python3/dist-packages/pip/_internal/configuration.py\", line 26, in <module>\n",
            "    from pip._internal.utils.logging import getLogger\n",
            "  File \"/usr/lib/python3/dist-packages/pip/_internal/utils/logging.py\", line 27, in <module>\n",
            "    from pip._internal.utils.misc import ensure_dir\n",
            "  File \"/usr/lib/python3/dist-packages/pip/_internal/utils/misc.py\", line 39, in <module>\n",
            "    from pip._internal.locations import get_major_minor_version\n",
            "  File \"/usr/lib/python3/dist-packages/pip/_internal/locations/__init__.py\", line 14, in <module>\n",
            "    from . import _distutils, _sysconfig\n",
            "  File \"/usr/lib/python3/dist-packages/pip/_internal/locations/_distutils.py\", line 9, in <module>\n",
            "    from distutils.cmd import Command as DistutilsCommand\n",
            "ModuleNotFoundError: No module named 'distutils.cmd'\n"
          ]
        },
        {
          "output_type": "error",
          "ename": "ModuleNotFoundError",
          "evalue": "ignored",
          "traceback": [
            "\u001b[0;31m---------------------------------------------------------------------------\u001b[0m",
            "\u001b[0;31mModuleNotFoundError\u001b[0m                       Traceback (most recent call last)",
            "\u001b[0;32m<ipython-input-25-698ec027f3b1>\u001b[0m in \u001b[0;36m<cell line: 2>\u001b[0;34m()\u001b[0m\n\u001b[1;32m      1\u001b[0m \u001b[0mget_ipython\u001b[0m\u001b[0;34m(\u001b[0m\u001b[0;34m)\u001b[0m\u001b[0;34m.\u001b[0m\u001b[0msystem\u001b[0m\u001b[0;34m(\u001b[0m\u001b[0;34m'pip install gurobipy'\u001b[0m\u001b[0;34m)\u001b[0m\u001b[0;34m\u001b[0m\u001b[0;34m\u001b[0m\u001b[0m\n\u001b[0;32m----> 2\u001b[0;31m \u001b[0;32mimport\u001b[0m \u001b[0mgurobipy\u001b[0m \u001b[0;32mas\u001b[0m \u001b[0mgp\u001b[0m\u001b[0;34m\u001b[0m\u001b[0;34m\u001b[0m\u001b[0m\n\u001b[0m\u001b[1;32m      3\u001b[0m \u001b[0;32mfrom\u001b[0m \u001b[0mgurobipy\u001b[0m \u001b[0;32mimport\u001b[0m \u001b[0mGRB\u001b[0m\u001b[0;34m\u001b[0m\u001b[0;34m\u001b[0m\u001b[0m\n\u001b[1;32m      4\u001b[0m \u001b[0;34m\u001b[0m\u001b[0m\n\u001b[1;32m      5\u001b[0m \u001b[0;31m# the free license has a limit on variables, we will use only 10 stocks, and require minimum 2 short stocks, we will also remove the factor constraint as it is the \"hardest\"\u001b[0m\u001b[0;34m\u001b[0m\u001b[0;34m\u001b[0m\u001b[0m\n",
            "\u001b[0;31mModuleNotFoundError\u001b[0m: No module named 'gurobipy'",
            "",
            "\u001b[0;31m---------------------------------------------------------------------------\u001b[0;32m\nNOTE: If your import is failing due to a missing package, you can\nmanually install dependencies using either !pip or !apt.\n\nTo view examples of installing some common dependencies, click the\n\"Open Examples\" button below.\n\u001b[0;31m---------------------------------------------------------------------------\u001b[0m\n"
          ],
          "errorDetails": {
            "actions": [
              {
                "action": "open_url",
                "actionText": "Open Examples",
                "url": "/notebooks/snippets/importing_libraries.ipynb"
              }
            ]
          }
        }
      ]
    },
    {
      "cell_type": "code",
      "source": [],
      "metadata": {
        "colab": {
          "base_uri": "https://localhost:8080/"
        },
        "id": "lfWYS5hIPwSj",
        "outputId": "6abcd6f2-4a86-4ca1-8dd1-e77d5149ea4b"
      },
      "id": "lfWYS5hIPwSj",
      "execution_count": null,
      "outputs": [
        {
          "output_type": "stream",
          "name": "stdout",
          "text": [
            "Help on method optimize in module gurobipy:\n",
            "\n",
            "optimize(callback=None) method of gurobipy.Model instance\n",
            "    ROUTINE:\n",
            "      optimize()\n",
            "    \n",
            "    PURPOSE:\n",
            "      Optimize the model.\n",
            "    \n",
            "    ARGUMENTS:\n",
            "      callback (function, optional): Callback function which takes two\n",
            "               arguments, model and where.\n",
            "    \n",
            "    RETURN VALUE:\n",
            "      None.\n",
            "    \n",
            "    EXAMPLE:\n",
            "      model.optimize()\n",
            "    \n",
            "    NOTES:\n",
            "      The algorithm used to optimize the model depends on the model type and\n",
            "      on the parameter settings.  A MIP model will always be optimized using\n",
            "      the branch-and-cut algorithm.  A continuous model will be optimized\n",
            "      using the dual simplex algorithm by default; the Method parameter\n",
            "      can be used to choose a different algorithm.\n",
            "\n"
          ]
        }
      ]
    },
    {
      "cell_type": "code",
      "source": [],
      "metadata": {
        "id": "JouBJeA3cOF2"
      },
      "id": "JouBJeA3cOF2",
      "execution_count": null,
      "outputs": []
    }
  ],
  "metadata": {
    "kernelspec": {
      "display_name": "Python 3 (ipykernel)",
      "language": "python",
      "name": "python3"
    },
    "language_info": {
      "codemirror_mode": {
        "name": "ipython",
        "version": 3
      },
      "file_extension": ".py",
      "mimetype": "text/x-python",
      "name": "python",
      "nbconvert_exporter": "python",
      "pygments_lexer": "ipython3",
      "version": "3.9.13"
    },
    "colab": {
      "provenance": [],
      "include_colab_link": true
    }
  },
  "nbformat": 4,
  "nbformat_minor": 5
}