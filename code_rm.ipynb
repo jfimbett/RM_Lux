{
  "cells": [
    {
      "cell_type": "markdown",
      "metadata": {
        "id": "view-in-github",
        "colab_type": "text"
      },
      "source": [
        "<a href=\"https://colab.research.google.com/github/jfimbett/RM_Lux/blob/main/code_rm.ipynb\" target=\"_parent\"><img src=\"https://colab.research.google.com/assets/colab-badge.svg\" alt=\"Open In Colab\"/></a>"
      ]
    },
    {
      "cell_type": "markdown",
      "id": "47c3be2b",
      "metadata": {
        "id": "47c3be2b"
      },
      "source": [
        "# Supporting Jupyter notebook\n",
        "\n",
        "## Risk Management for Financial Institutions - University of Luxembourg\n",
        "\n",
        "### Juan F. Imbet Ph.D. Paris Dauphine - PSL\n"
      ]
    },
    {
      "cell_type": "markdown",
      "id": "3afa12e8",
      "metadata": {
        "id": "3afa12e8"
      },
      "source": [
        "Visualizing the Value at Risk"
      ]
    },
    {
      "cell_type": "code",
      "execution_count": null,
      "id": "3ea22006",
      "metadata": {
        "colab": {
          "base_uri": "https://localhost:8080/",
          "height": 295
        },
        "id": "3ea22006",
        "outputId": "021a955b-ee0c-4510-bbc4-f70eed126cb2"
      },
      "outputs": [
        {
          "output_type": "display_data",
          "data": {
            "text/plain": [
              "<Figure size 432x288 with 1 Axes>"
            ],
            "image/png": "[encoded data removed]"
          },
          "metadata": {
            "needs_background": "light"
          }
        }
      ],
      "source": [
        "#%%\n",
        "import numpy as np\n",
        "from matplotlib import pyplot as plt\n",
        "\n",
        "# show in a distribution the VaR of a portfolio\n",
        "def showVaR(portfolio, confidence):\n",
        "    # calculate the VaR of the portfolio\n",
        "    VaR = np.percentile(portfolio, confidence)\n",
        "    # plot the VaR\n",
        "    plt.hist(portfolio, bins=200)\n",
        "    plt.axvline(VaR, color='r', linestyle='dashed', linewidth=2)\n",
        "    # add title and axis names\n",
        "    plt.title('Historical based VaR')\n",
        "    plt.xlabel('Portfolio Return')\n",
        "    plt.ylabel('Frequency')\n",
        "    plt.show()\n",
        "    \n",
        "# example of showVaR\n",
        "portfolio = np.random.normal(0, 1, 10000)\n",
        "showVaR(portfolio, 5)\n",
        "# %%\n"
      ]
    },
    {
      "cell_type": "markdown",
      "id": "09dcd846",
      "metadata": {
        "id": "09dcd846"
      },
      "source": [
        "## Portfolio Allocation Example"
      ]
    },
    {
      "cell_type": "markdown",
      "id": "e43f4f78",
      "metadata": {
        "id": "e43f4f78"
      },
      "source": [
        "Load data"
      ]
    },
    {
      "cell_type": "code",
      "execution_count": null,
      "id": "2fba5e06",
      "metadata": {
        "colab": {
          "base_uri": "https://localhost:8080/"
        },
        "id": "2fba5e06",
        "outputId": "c869ba40-1a96-45e3-cfbc-22e6b54fef7b"
      },
      "outputs": [
        {
          "output_type": "stream",
          "name": "stderr",
          "text": [
            "100%|██████████| 50/50 [00:40<00:00,  1.23it/s]\n"
          ]
        }
      ],
      "source": [
        "import pandas as pd\n",
        "from pandas_datareader import data as wb\n",
        "import requests\n",
        "from tqdm import tqdm \n",
        "# headers \n",
        "session = requests.session()\n",
        "session.headers['User-Agent'] = 'Mozilla/5.0 (Macintosh; Intel Mac OS X 10_10_1) AppleWebKit/537.36 (KHTML, like Gecko) Chrome/39.0.2171.95 Safari/537.36'\n",
        "\n",
        "\n",
        "# load historical prices for the 50 largest US stocks\n",
        "tickers = ['AAPL', 'MSFT', 'AMZN', 'GOOGL', 'FB', \n",
        "           'BRK-B', 'JPM', 'JNJ', 'V', 'PG', \n",
        "           'MA', 'UNH', 'HD', 'VZ', 'INTC', \n",
        "           'DIS', 'CMCSA', 'PFE', 'ADBE', 'KO', \n",
        "           'T', 'NFLX', 'PEP', 'NVDA', 'ABT', \n",
        "           'PYPL', 'MRK', 'CRM', 'CSCO', 'TMO', \n",
        "           'AVGO', 'ORCL', 'COST', 'TSLA', 'ACN', \n",
        "           'XOM', 'BAC', 'CVX', 'WFC', 'MCD', \n",
        "           'QCOM', 'MDT', 'WMT', 'PM', 'LIN', \n",
        "           'UNP', 'UPS', 'LOW', 'BA', 'GME']\n",
        "data = pd.DataFrame()\n",
        "for t in tqdm(tickers):\n",
        "    data[t] = wb.DataReader(t, data_source='yahoo', start='2010-1-1', session=session)['Adj Close']\n",
        "    \n",
        "# calculate the log returns\n",
        "log_returns = np.log(1 + data.pct_change())\n",
        "# compute expected returns and covariance\n",
        "mu = log_returns.mean() \n",
        "sigma = log_returns.cov()\n",
        "\n"
      ]
    },
    {
      "cell_type": "markdown",
      "id": "8b37450c",
      "metadata": {
        "id": "8b37450c"
      },
      "source": [
        "Data on common factors, data cleaning and optimization"
      ]
    },
    {
      "cell_type": "code",
      "execution_count": null,
      "id": "32a85d49",
      "metadata": {
        "colab": {
          "base_uri": "https://localhost:8080/"
        },
        "id": "32a85d49",
        "outputId": "0a4450bb-3505-4cdf-dc6f-2b5acc007704"
      },
      "outputs": [
        {
          "output_type": "stream",
          "name": "stderr",
          "text": [
            "/usr/local/lib/python3.8/dist-packages/statsmodels/tsa/tsatools.py:142: FutureWarning: In a future version of pandas all arguments of concat except for the argument 'objs' will be keyword-only\n",
            "  x = pd.concat(x[::order], 1)\n"
          ]
        },
        {
          "output_type": "execute_result",
          "data": {
            "text/plain": [
              "0.0003596678190050703"
            ]
          },
          "metadata": {},
          "execution_count": 6
        }
      ],
      "source": [
        "# convert index from yyy-mm-dd to yyy-mm\n",
        "data.index = data.index.strftime('%Y-%m')\n",
        "\n",
        "\n",
        "# %%\n",
        "# download zip folder in url and load file inside to csv\n",
        "url = 'https://mba.tuck.dartmouth.edu/pages/faculty/ken.french/ftp/F-F_Research_Data_5_Factors_2x3_CSV.zip'\n",
        "import requests\n",
        "import zipfile\n",
        "import io\n",
        "r = requests.get(url)\n",
        "z = zipfile.ZipFile(io.BytesIO(r.content))\n",
        "z.extractall()\n",
        "\n",
        "# %%\n",
        "# read the csv file starting from the 4th row and finishing in the first empty row found\n",
        "factors = pd.read_csv('F-F_Research_Data_5_Factors_2x3.csv', skiprows=3, nrows=712, index_col=0, parse_dates=True)\n",
        "\n",
        "# %%\n",
        "# factors' index is yyymm format, convert it to yyyy-mm\n",
        "factors.index = factors.index.astype(str).str[:-2] + '-' + factors.index.astype(str).str[-2:]\n",
        "# rename index to Date\n",
        "factors.index.name = 'Date'\n",
        "\n",
        "# convert the date of log_returns to yyyy-mm\n",
        "log_returns.index = log_returns.index.strftime('%Y-%m')\n",
        "\n",
        "# merge factors and log_returns on Date\n",
        "df = pd.merge(factors, log_returns, on='Date')\n",
        "\n",
        "# import sm\n",
        "import statsmodels.api as sm\n",
        "# drop NaN values\n",
        "df = df.dropna()\n",
        "# for each ticker, compute the beta with respect to the 5 factors\n",
        "B = np.zeros((len(tickers), 5))\n",
        "for i, t in enumerate(tickers):\n",
        "    # compute the regression\n",
        "    X = df[['Mkt-RF', 'SMB', 'HML', 'RMW', 'CMA']]\n",
        "    X = X/100\n",
        "    y = df[t]\n",
        "    X = sm.add_constant(X)\n",
        "    model = sm.OLS(y, X).fit()\n",
        "    # store the betas\n",
        "    B[i, :] = model.params[1:]\n",
        "    \n",
        "from scipy.optimize import minimize\n",
        "from scipy.optimize import NonlinearConstraint\n",
        "\n",
        "# sigma and mu to numpy\n",
        "sigma = sigma.to_numpy()\n",
        "mu = mu.to_numpy()\n",
        "\n",
        "\n",
        "# correlation matrix \n",
        "C = sigma / np.sqrt(np.diag(sigma)) / np.sqrt(np.diag(sigma)).reshape(-1, 1)\n",
        "\n",
        "\n",
        "      \n",
        "        \n"
      ]
    },
    {
      "cell_type": "code",
      "source": [
        "\n",
        "# for an alpha of 0.05 compute the inverse of the cumulative distribution function of a standard normal\n",
        "alpha = 0.05\n",
        "# import norm\n",
        "from scipy.stats import norm\n",
        "eta = -norm.ppf(alpha)\n",
        "\n",
        "# V is eta times the square root of the diagonal of sigma\n",
        "V = eta * np.sqrt(np.diag(np.diag(sigma)))\n",
        "\n",
        "N = len(tickers)\n",
        "# We include all decision variables in a single vector x\n",
        "# first N elements are the weights of the portfolio\n",
        "# second N elements are the weights of the long positions\n",
        "# third N elements are the weights of the short positions\n",
        "# last element is cash\n",
        "\n",
        "# objective function and Parameters\n",
        "gamma = 2\n",
        "L = 1.5\n",
        "beta_bar = np.array([0.0, 0.0, 0.0, 0.0, 0.0])\n",
        "beta_ub = np.array([1.0, 1.0, 1.0, 1.0, 1.0])\n",
        "beta_lb = np.array([1.0, 1.0, 1.0, 1.0, 1.0])\n",
        "u_b = 0.2 # upper bound for theta\n",
        "l_b = -0.2 # lower bound for theta\n",
        "VaR_max = 1.9 # large loss in terms of % of portfolio value\n",
        "U = lambda x : 10000*(x[:N].T @ mu \\\n",
        "    - 0.5*gamma *x[:N].T @ sigma @ x[:N])\n",
        "\n",
        "# example, equally weighted portfolio\n",
        "x_test = np.concatenate((np.ones(N)/N, np.ones(N)/N, np.zeros(N), [0]))\n",
        "U(x_test)\n"
      ],
      "metadata": {
        "colab": {
          "base_uri": "https://localhost:8080/"
        },
        "id": "h4acdbc7KtrM",
        "outputId": "f81d235d-03c4-41fc-a350-480044aaed9e"
      },
      "id": "h4acdbc7KtrM",
      "execution_count": null,
      "outputs": [
        {
          "output_type": "execute_result",
          "data": {
            "text/plain": [
              "3.596678190050703"
            ]
          },
          "metadata": {},
          "execution_count": 28
        }
      ]
    },
    {
      "cell_type": "code",
      "source": [
        "#%% \n",
        "constraints = []\n",
        "# Sum of weights = 1\n",
        "constraints.append(NonlinearConstraint(\\\n",
        "    lambda x: np.sum(x[:N]) + x[-1], 1, 1))\n",
        "\n",
        "# theta is expressed as the long minus the short position\n",
        "\n",
        "constraints.append(NonlinearConstraint(\\\n",
        "    lambda x: x[:N] - (x[N:2*N]- x[2*N:3*N]), 0, 0))\n",
        "\n",
        "# the long and short positions are non-negative\n",
        "\n",
        "constraints.append(NonlinearConstraint(\\\n",
        "    lambda x: x[N:2*N], 0, np.inf))\n",
        "    \n",
        "\n",
        "constraints.append(NonlinearConstraint(\\\n",
        "    lambda x: x[2*N:3*N], 0, np.inf))\n",
        "\n",
        "# positive cash\n",
        "\n",
        "constraints.append(NonlinearConstraint(\\\n",
        "    lambda x: x[-1], 0, np.inf))\n",
        "\n",
        "constraints.append(NonlinearConstraint(\\\n",
        "        lambda x: x[:N], l_b*np.ones(N), u_b*np.ones(N)))\n",
        "\n",
        "# leverage constraint\n",
        "constraints.append(NonlinearConstraint(\\\n",
        "    lambda x: np.sum(x[N:2*N]) + np.sum(x[2*N:3*N]), 0, L))\n",
        "\n",
        "# Factor exposure constraint\n",
        "constraints.append(NonlinearConstraint(\\\n",
        "    lambda x: B.T @ x[:N], beta_bar-beta_lb, beta_bar+beta_ub))\n",
        "\n",
        "# VaR constraint\n",
        "constraints.append(NonlinearConstraint(\\\n",
        "    lambda x: np.sqrt(x[:N].T @ V @ C @ V @ x[:N]), 0, VaR_max))\n",
        "\n",
        "solution = minimize(\n",
        "    # objective function\n",
        "    lambda x : -U(x), \n",
        "    # initial value\n",
        "    #x0 = np.concatenate((np.ones(N)/N, np.ones(N)/N, np.zeros(N), [0])),\n",
        "    x0 = np.zeros(3*N+1),\n",
        "    # constraints\n",
        "    constraints = constraints)\n",
        "\n",
        "if solution.success:\n",
        "  # print the results of the optimization nicely\n",
        "  x = solution.x\n",
        "  print('Optimal weights')\n",
        "  print(\"----------------\")\n",
        "  print(\"Long positions\")\n",
        "  for i, t in enumerate(tickers):\n",
        "      if x[N+i] > 1e-5:\n",
        "          # print the ticker and the weight rounding decimals\n",
        "          print(t, round(x[N+i], 3))\n",
        "\n",
        "  print(\"----------------\")\n",
        "  print(\"Short positions\")\n",
        "  for i, t in enumerate(tickers):\n",
        "      if x[2*N+i] > 1e-5:\n",
        "          # print the ticker and the weight rounding decimals\n",
        "          print(t, round(x[2*N+i], 3))\n",
        "  print(\"----------------\")\n",
        "  print(\"Cash\", round(x[-1], 3))\n",
        "  print(\"----------------\")\n",
        "  # what is the exposure to the factors?\n",
        "  print(\"Exposure to the factors\")\n",
        "  print(\"-----------------------\")\n",
        "  exp = B.T @ x[:N]\n",
        "  print(\"Mkt-RF\", round(exp[0], 3))\n",
        "  print(\"SMB\", round(exp[1], 3))\n",
        "  print(\"HML\", round(exp[2], 3))\n",
        "  print(\"RMW\", round(exp[3], 3))\n",
        "  print(\"CMA\", round(exp[4], 3))\n",
        "\n",
        "  # compute the VaR of the portfolio\n",
        "  VaR = np.sqrt(x[:N].T @ V @ C @ V @ x[:N])\n",
        "  # print results\n",
        "  print(\"VaR\", round(VaR, 3)) \n",
        "else:\n",
        "  print(\"Optimal Solution Not Found\")\n"
      ],
      "metadata": {
        "colab": {
          "base_uri": "https://localhost:8080/"
        },
        "id": "OaWO5jKfhgd7",
        "outputId": "58d80810-c0df-4368-8204-bef301354bb0"
      },
      "id": "OaWO5jKfhgd7",
      "execution_count": null,
      "outputs": [
        {
          "output_type": "stream",
          "name": "stdout",
          "text": [
            "Optimal weights\n",
            "----------------\n",
            "Long positions\n",
            "AAPL 0.2\n",
            "UNH 0.172\n",
            "HD 0.078\n",
            "NFLX 0.2\n",
            "NVDA 0.2\n",
            "AVGO 0.2\n",
            "TSLA 0.2\n",
            "----------------\n",
            "Short positions\n",
            "FB 0.2\n",
            "INTC 0.043\n",
            "BAC 0.007\n",
            "----------------\n",
            "Cash 0.0\n",
            "----------------\n",
            "Exposure to the factors\n",
            "-----------------------\n",
            "Mkt-RF 0.091\n",
            "SMB 0.013\n",
            "HML -0.001\n",
            "RMW -0.03\n",
            "CMA -0.034\n",
            "VaR 0.023\n"
          ]
        }
      ]
    },
    {
      "cell_type": "markdown",
      "source": [
        "# MIP Formulation\n",
        "\n",
        "- Assume that now we require to have at least $n_s$ short stocks, we will see how we can obtain the optimal solution using a free version of the comercial solver Gurobi\n"
      ],
      "metadata": {
        "id": "lG8YXvGOOn1N"
      },
      "id": "lG8YXvGOOn1N"
    },
    {
      "cell_type": "code",
      "source": [
        "!pip install -i https://pypi.gurobi.com gurobipy"
      ],
      "metadata": {
        "colab": {
          "base_uri": "https://localhost:8080/"
        },
        "id": "4I05XYFUPDbO",
        "outputId": "b7cdf5a0-8116-49c9-9776-aad3d01fd709"
      },
      "id": "4I05XYFUPDbO",
      "execution_count": null,
      "outputs": [
        {
          "output_type": "stream",
          "name": "stdout",
          "text": [
            "Looking in indexes: https://pypi.gurobi.com, https://us-python.pkg.dev/colab-wheels/public/simple/\n",
            "Collecting gurobipy\n",
            "  Downloading gurobipy-10.0.0-cp38-cp38-manylinux2014_x86_64.whl (12.8 MB)\n",
            "\u001b[K     |████████████████████████████████| 12.8 MB 5.1 MB/s \n",
            "\u001b[?25hInstalling collected packages: gurobipy\n",
            "Successfully installed gurobipy-10.0.0\n"
          ]
        }
      ]
    },
    {
      "cell_type": "code",
      "source": [
        "import gurobipy as gp\n",
        "from gurobipy import GRB\n",
        "\n",
        "# the free license has a limit on variables, we will use only 10 stocks, and require minimum 2 short stocks, we will also remove the factor constraint as it is the \"hardest\"\n",
        "# we will use the first 10 stocks\n",
        "\n",
        "N = 30\n",
        "ns = 2\n",
        "\n",
        "M = 1E9\n",
        "try:\n",
        "    indices = range(N)\n",
        "    tick_names = tickers[:N]\n",
        "    # Create a new model\n",
        "    model = gp.Model(\"Risk Management\")\n",
        "\n",
        "    model.params.NonConvex = 2\n",
        "\n",
        "    # Create variables\n",
        "    x     = model.addVars(indices, vtype=GRB.BINARY, name=\"x\")\n",
        "    x_pos = model.addVars(indices, vtype=GRB.BINARY, name=\"x_pos\")\n",
        "    x_neg = model.addVars(indices, vtype=GRB.BINARY, name=\"x_neg\")\n",
        "\n",
        "    theta      = model.addVars(indices, lb = l_b, ub = u_b)\n",
        "    theta_pos  = model.addVars(indices, lb = 0,   ub = u_b)\n",
        "    theta_neg  = model.addVars(indices, lb = 0,   ub = -l_b)\n",
        "\n",
        "    theta_cash = model.addVar(lb = 0,   ub = float('inf'), name = \"cash\")\n",
        "\n",
        "    # Budget constraint\n",
        "    model.addConstr(theta.sum()+theta_cash == 1.0)\n",
        "\n",
        "    # Long-Short definitions\n",
        "    for i in range(N):\n",
        "        model.addConstr(theta[i]                    == theta_pos[i] - theta_neg[i])\n",
        "        model.addConstr(x[i]                        == x_pos[i]     + x_neg[i])\n",
        "        model.addConstr(M*theta_pos[i]              >= x_pos[i])\n",
        "        model.addConstr(theta_pos[i]                <= M*x_pos[i])\n",
        "        model.addConstr(M*theta_neg[i]              >= x_neg[i])\n",
        "        model.addConstr(theta_neg[i]                <= M*x_neg[i])\n",
        "\n",
        "    #Leverage\n",
        "    model.addConstr(theta_pos.sum() + theta_neg.sum() <= L)\n",
        "\n",
        "    # VaR \n",
        "    V_C_V = V @ C @ V\n",
        "\n",
        "    #model.addConstr(gp.quicksum(theta[i]*V_C_V[i,j]*theta[j] for i in range(N) for j in range(N)) <= VaR_max**2)\n",
        "\n",
        "    # minimum 5 short sales\n",
        "\n",
        "    model.addConstr(gp.quicksum(x_neg[i] for i in range(N))>=ns)\n",
        "\n",
        "    # Set objective\n",
        "    model.setObjective(gp.quicksum(theta[i]*mu[i] for i in range(N)) - 0.5*gamma*gp.quicksum(theta[i]*sigma[i,j]*theta[j] for i in range(N) for j in range(N)), GRB.MAXIMIZE)\n",
        "\n",
        "    # Optimize model\n",
        "    model.optimize()\n",
        "\n",
        "    vars = model.getVars()\n",
        "\n",
        "    vars = vars[3*N:4*N] # first 3*N vars are the binary ones\n",
        "\n",
        "    for (name, var) in zip(tick_names, vars):\n",
        "      print(f\"Ticker: {name} - Position: {round(var.X*100,2)} %\")\n",
        "    \n",
        "    #for v in model.getVars():\n",
        "    #    print('%s %g' % (v.VarName, v.X))\n",
        "\n",
        "    print('Obj: %g' % model.ObjVal)\n",
        "\n",
        "except gp.GurobiError as e:\n",
        "    print('Error code ' + str(e.errno) + ': ' + str(e))\n",
        "\n",
        "except AttributeError:\n",
        "    print('Encountered an attribute error')"
      ],
      "metadata": {
        "colab": {
          "base_uri": "https://localhost:8080/"
        },
        "id": "9oZMads4PJD8",
        "outputId": "c85a7b37-345a-420d-df6b-b2a592168631"
      },
      "id": "9oZMads4PJD8",
      "execution_count": null,
      "outputs": [
        {
          "output_type": "stream",
          "name": "stdout",
          "text": [
            "Set parameter NonConvex to value 2\n",
            "Gurobi Optimizer version 10.0.0 build v10.0.0rc2 (linux64)\n",
            "\n",
            "CPU model: Intel(R) Xeon(R) CPU @ 2.20GHz, instruction set [SSE2|AVX|AVX2]\n",
            "Thread count: 1 physical cores, 2 logical processors, using up to 2 threads\n",
            "\n",
            "Optimize a model with 183 rows, 181 columns and 541 nonzeros\n",
            "Model fingerprint: 0x9caa36c5\n",
            "Model has 465 quadratic objective terms\n",
            "Variable types: 91 continuous, 90 integer (90 binary)\n",
            "Coefficient statistics:\n",
            "  Matrix range     [1e+00, 1e+09]\n",
            "  Objective range  [2e-04, 4e-03]\n",
            "  QObjective range [1e-04, 4e-03]\n",
            "  Bounds range     [2e-01, 1e+00]\n",
            "  RHS range        [1e+00, 2e+00]\n",
            "Warning: Model contains large matrix coefficients\n",
            "         Consider reformulating model or setting NumericFocus parameter\n",
            "         to avoid numerical issues.\n",
            "Found heuristic solution: objective -0.0002978\n",
            "Presolve removed 30 rows and 61 columns\n",
            "Presolve time: 0.00s\n",
            "Presolved: 1024 rows, 586 columns, 3556 nonzeros\n",
            "Presolved model has 30 quadratic constraint(s)\n",
            "Presolved model has 435 bilinear constraint(s)\n",
            "Variable types: 526 continuous, 60 integer (60 binary)\n",
            "\n",
            "Root relaxation: objective 4.328546e-03, 695 iterations, 0.04 seconds (0.02 work units)\n",
            "\n",
            "    Nodes    |    Current Node    |     Objective Bounds      |     Work\n",
            " Expl Unexpl |  Obj  Depth IntInf | Incumbent    BestBd   Gap | It/Node Time\n",
            "\n",
            "     0     0    0.00433    0  330   -0.00030    0.00433  1554%     -    0s\n",
            "H    0     0                       0.0016259    0.00433   166%     -    0s\n",
            "     0     0    0.00234    0  284    0.00163    0.00234  43.8%     -    0s\n",
            "     0     0    0.00221    0  331    0.00163    0.00221  35.8%     -    1s\n",
            "     0     0    0.00220    0  320    0.00163    0.00220  35.3%     -    2s\n",
            "     0     0    0.00207    0  232    0.00163    0.00207  27.6%     -    2s\n",
            "     0     0    0.00203    0  312    0.00163    0.00203  24.9%     -    2s\n",
            "     0     0    0.00203    0  248    0.00163    0.00203  24.9%     -    3s\n",
            "     0     0    0.00201    0  242    0.00163    0.00201  23.7%     -    3s\n",
            "     0     0    0.00200    0  318    0.00163    0.00200  23.2%     -    4s\n",
            "     0     0    0.00199    0  286    0.00163    0.00199  22.5%     -    4s\n",
            "     0     0    0.00197    0  234    0.00163    0.00197  21.2%     -    4s\n",
            "     0     0    0.00196    0  221    0.00163    0.00196  20.6%     -    4s\n",
            "     0     0    0.00194    0  213    0.00163    0.00194  19.2%     -    4s\n",
            "     0     0    0.00194    0  331    0.00163    0.00194  19.2%     -    5s\n",
            "     0     0    0.00194    0  236    0.00163    0.00194  19.2%     -    5s\n",
            "     0     0    0.00194    0  236    0.00163    0.00194  19.2%     -    5s\n",
            "H    0     0                       0.0017598    0.00194  10.1%     -    6s\n",
            "     0     2    0.00194    0  236    0.00176    0.00194  10.1%     -    6s\n",
            "H   27    25                       0.0017666    0.00194  9.66%  1114    8s\n",
            "    58    46    0.00194   13  198    0.00177    0.00194  9.66%   857   10s\n",
            "   256   219    0.00181    9    3    0.00177    0.00194  9.66%   331   15s\n",
            "H  257   209                       0.0018152    0.00194  6.73%   329   15s\n",
            "\n",
            "Cutting planes:\n",
            "  Flow cover: 8\n",
            "  RLT: 424\n",
            "  BQP: 136\n",
            "  PSD: 342\n",
            "\n",
            "Explored 262 nodes (123991 simplex iterations) in 16.78 seconds (12.83 work units)\n",
            "Thread count was 2 (of 2 available processors)\n",
            "\n",
            "Solution count 5: 0.00181519 0.00176658 0.00175983 ... -0.000297758\n",
            "No other solutions better than 0.00181519\n",
            "\n",
            "Optimal solution found (tolerance 1.00e-04)\n",
            "Best objective 1.815185129505e-03, best bound 1.815185129586e-03, gap 0.0000%\n",
            "Ticker: AAPL - Position: 20.0 %\n",
            "Ticker: MSFT - Position: 0.0 %\n",
            "Ticker: AMZN - Position: 15.95 %\n",
            "Ticker: GOOGL - Position: 0.0 %\n",
            "Ticker: FB - Position: -20.0 %\n",
            "Ticker: BRK-B - Position: 0.0 %\n",
            "Ticker: JPM - Position: 0.0 %\n",
            "Ticker: JNJ - Position: 0.0 %\n",
            "Ticker: V - Position: 0.0 %\n",
            "Ticker: PG - Position: 0.0 %\n",
            "Ticker: MA - Position: 0.0 %\n",
            "Ticker: UNH - Position: 20.0 %\n",
            "Ticker: HD - Position: 20.0 %\n",
            "Ticker: VZ - Position: 0.0 %\n",
            "Ticker: INTC - Position: -0.0 %\n",
            "Ticker: DIS - Position: 0.0 %\n",
            "Ticker: CMCSA - Position: 0.0 %\n",
            "Ticker: PFE - Position: 0.0 %\n",
            "Ticker: ADBE - Position: 0.0 %\n",
            "Ticker: KO - Position: 0.0 %\n",
            "Ticker: T - Position: 0.0 %\n",
            "Ticker: NFLX - Position: 20.0 %\n",
            "Ticker: PEP - Position: 0.0 %\n",
            "Ticker: NVDA - Position: 20.0 %\n",
            "Ticker: ABT - Position: 0.0 %\n",
            "Ticker: PYPL - Position: 0.0 %\n",
            "Ticker: MRK - Position: 0.0 %\n",
            "Ticker: CRM - Position: 0.0 %\n",
            "Ticker: CSCO - Position: 0.0 %\n",
            "Ticker: TMO - Position: 4.05 %\n",
            "Obj: 0.00181519\n"
          ]
        }
      ]
    },
    {
      "cell_type": "code",
      "source": [],
      "metadata": {
        "colab": {
          "base_uri": "https://localhost:8080/"
        },
        "id": "lfWYS5hIPwSj",
        "outputId": "6abcd6f2-4a86-4ca1-8dd1-e77d5149ea4b"
      },
      "id": "lfWYS5hIPwSj",
      "execution_count": null,
      "outputs": [
        {
          "output_type": "stream",
          "name": "stdout",
          "text": [
            "Help on method optimize in module gurobipy:\n",
            "\n",
            "optimize(callback=None) method of gurobipy.Model instance\n",
            "    ROUTINE:\n",
            "      optimize()\n",
            "    \n",
            "    PURPOSE:\n",
            "      Optimize the model.\n",
            "    \n",
            "    ARGUMENTS:\n",
            "      callback (function, optional): Callback function which takes two\n",
            "               arguments, model and where.\n",
            "    \n",
            "    RETURN VALUE:\n",
            "      None.\n",
            "    \n",
            "    EXAMPLE:\n",
            "      model.optimize()\n",
            "    \n",
            "    NOTES:\n",
            "      The algorithm used to optimize the model depends on the model type and\n",
            "      on the parameter settings.  A MIP model will always be optimized using\n",
            "      the branch-and-cut algorithm.  A continuous model will be optimized\n",
            "      using the dual simplex algorithm by default; the Method parameter\n",
            "      can be used to choose a different algorithm.\n",
            "\n"
          ]
        }
      ]
    },
    {
      "cell_type": "code",
      "source": [],
      "metadata": {
        "id": "JouBJeA3cOF2"
      },
      "id": "JouBJeA3cOF2",
      "execution_count": null,
      "outputs": []
    }
  ],
  "metadata": {
    "kernelspec": {
      "display_name": "Python 3 (ipykernel)",
      "language": "python",
      "name": "python3"
    },
    "language_info": {
      "codemirror_mode": {
        "name": "ipython",
        "version": 3
      },
      "file_extension": ".py",
      "mimetype": "text/x-python",
      "name": "python",
      "nbconvert_exporter": "python",
      "pygments_lexer": "ipython3",
      "version": "3.9.13"
    },
    "colab": {
      "provenance": [],
      "include_colab_link": true
    }
  },
  "nbformat": 4,
  "nbformat_minor": 5
}