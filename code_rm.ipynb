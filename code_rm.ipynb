{
  "cells": [
    {
      "cell_type": "markdown",
      "metadata": {
        "id": "view-in-github",
        "colab_type": "text"
      },
      "source": [
        "<a href=\"https://colab.research.google.com/github/jfimbett/RM_Lux/blob/main/code_rm.ipynb\" target=\"_parent\"><img src=\"https://colab.research.google.com/assets/colab-badge.svg\" alt=\"Open In Colab\"/></a>"
      ]
    },
    {
      "cell_type": "markdown",
      "id": "47c3be2b",
      "metadata": {
        "id": "47c3be2b"
      },
      "source": [
        "# Supporting Jupyter notebook\n",
        "\n",
        "## Risk Management for Financial Institutions - University of Luxembourg\n",
        "\n",
        "### Juan F. Imbet Ph.D. Paris Dauphine - PSL\n"
      ]
    },
    {
      "cell_type": "markdown",
      "id": "3afa12e8",
      "metadata": {
        "id": "3afa12e8"
      },
      "source": [
        "Visualizing the Value at Risk"
      ]
    },
    {
      "cell_type": "code",
      "execution_count": 1,
      "id": "3ea22006",
      "metadata": {
        "colab": {
          "base_uri": "https://localhost:8080/",
          "height": 295
        },
        "id": "3ea22006",
        "outputId": "6385c6b0-ce2c-48c5-ab05-3aefdb5870d2"
      },
      "outputs": [
        {
          "output_type": "display_data",
          "data": {
            "text/plain": [
              "<Figure size 432x288 with 1 Axes>"
            ],
            "image/png": "[encoded data removed]"
          },
          "metadata": {
            "needs_background": "light"
          }
        }
      ],
      "source": [
        "#%%\n",
        "import numpy as np\n",
        "from matplotlib import pyplot as plt\n",
        "\n",
        "# show in a distribution the VaR of a portfolio\n",
        "def showVaR(portfolio, confidence):\n",
        "    # calculate the VaR of the portfolio\n",
        "    VaR = np.percentile(portfolio, confidence)\n",
        "    # plot the VaR\n",
        "    plt.hist(portfolio, bins=200)\n",
        "    plt.axvline(VaR, color='r', linestyle='dashed', linewidth=2)\n",
        "    # add title and axis names\n",
        "    plt.title('Historical based VaR')\n",
        "    plt.xlabel('Portfolio Return')\n",
        "    plt.ylabel('Frequency')\n",
        "    plt.show()\n",
        "    \n",
        "# example of showVaR\n",
        "portfolio = np.random.normal(0, 1, 10000)\n",
        "showVaR(portfolio, 5)\n",
        "# %%\n"
      ]
    },
    {
      "cell_type": "markdown",
      "id": "09dcd846",
      "metadata": {
        "id": "09dcd846"
      },
      "source": [
        "## Portfolio Allocation Example"
      ]
    },
    {
      "cell_type": "markdown",
      "id": "e43f4f78",
      "metadata": {
        "id": "e43f4f78"
      },
      "source": [
        "Load data"
      ]
    },
    {
      "cell_type": "code",
      "execution_count": 6,
      "id": "2fba5e06",
      "metadata": {
        "colab": {
          "base_uri": "https://localhost:8080/"
        },
        "id": "2fba5e06",
        "outputId": "72154f27-c53a-42c7-bcdd-b5b888872ab9"
      },
      "outputs": [
        {
          "output_type": "stream",
          "name": "stderr",
          "text": [
            "100%|██████████| 50/50 [00:35<00:00,  1.41it/s]\n"
          ]
        },
        {
          "output_type": "execute_result",
          "data": {
            "text/plain": [
              "AAPL     0.020705\n",
              "MSFT     0.015836\n",
              "AMZN     0.017364\n",
              "GOOGL    0.012979\n",
              "FB      -0.086276\n",
              "BRK-B    0.009102\n",
              "JPM      0.010113\n",
              "JNJ      0.009133\n",
              "V        0.015733\n",
              "PG       0.008227\n",
              "MA       0.017526\n",
              "UNH      0.019112\n",
              "HD       0.017730\n",
              "VZ       0.006042\n",
              "INTC     0.005220\n",
              "DIS      0.008663\n",
              "CMCSA    0.011305\n",
              "PFE      0.009839\n",
              "ADBE     0.015118\n",
              "KO       0.008114\n",
              "T        0.006255\n",
              "NFLX     0.022977\n",
              "PEP      0.009713\n",
              "NVDA     0.024788\n",
              "ABT      0.011152\n",
              "PYPL     0.008512\n",
              "MRK      0.009909\n",
              "CRM      0.014155\n",
              "CSCO     0.007283\n",
              "TMO      0.016323\n",
              "AVGO     0.023942\n",
              "ORCL     0.009368\n",
              "COST     0.015737\n",
              "TSLA     0.033251\n",
              "ACN      0.014324\n",
              "XOM      0.006617\n",
              "BAC      0.006674\n",
              "CVX      0.009197\n",
              "WFC      0.005239\n",
              "MCD      0.011823\n",
              "QCOM     0.009617\n",
              "MDT      0.005794\n",
              "WMT      0.008627\n",
              "PM       0.009150\n",
              "LIN      0.011305\n",
              "UNP      0.014279\n",
              "UPS      0.010081\n",
              "LOW      0.016204\n",
              "BA       0.008679\n",
              "GME      0.013542\n",
              "dtype: float64"
            ]
          },
          "metadata": {},
          "execution_count": 6
        }
      ],
      "source": [
        "import pandas as pd\n",
        "from pandas_datareader import data as wb\n",
        "import requests\n",
        "from tqdm import tqdm \n",
        "# headers \n",
        "session = requests.session()\n",
        "session.headers['User-Agent'] = 'Mozilla/5.0 (Macintosh; Intel Mac OS X 10_10_1) AppleWebKit/537.36 (KHTML, like Gecko) Chrome/39.0.2171.95 Safari/537.36'\n",
        "\n",
        "\n",
        "# load historical prices for the 50 largest US stocks\n",
        "tickers = ['AAPL', 'MSFT', 'AMZN', 'GOOGL', 'FB', \n",
        "           'BRK-B', 'JPM', 'JNJ', 'V', 'PG', \n",
        "           'MA', 'UNH', 'HD', 'VZ', 'INTC', \n",
        "           'DIS', 'CMCSA', 'PFE', 'ADBE', 'KO', \n",
        "           'T', 'NFLX', 'PEP', 'NVDA', 'ABT', \n",
        "           'PYPL', 'MRK', 'CRM', 'CSCO', 'TMO', \n",
        "           'AVGO', 'ORCL', 'COST', 'TSLA', 'ACN', \n",
        "           'XOM', 'BAC', 'CVX', 'WFC', 'MCD', \n",
        "           'QCOM', 'MDT', 'WMT', 'PM', 'LIN', \n",
        "           'UNP', 'UPS', 'LOW', 'BA', 'GME']\n",
        "data = pd.DataFrame()\n",
        "for t in tqdm(tickers):\n",
        "    data[t] = wb.get_data_yahoo(t, '2010-1-1', interval = 'm', session = session)['Adj Close']\n",
        "    \n",
        "\n",
        "# calculate the log returns\n",
        "log_returns = np.log(1 + data.pct_change())\n",
        "# compute expected returns and covariance\n",
        "mu = log_returns.mean() \n",
        "sigma = log_returns.cov()\n",
        "\n",
        "mu\n"
      ]
    },
    {
      "cell_type": "code",
      "source": [
        "#sigma"
      ],
      "metadata": {
        "id": "PLRF2RNSOmrw"
      },
      "id": "PLRF2RNSOmrw",
      "execution_count": 8,
      "outputs": []
    },
    {
      "cell_type": "markdown",
      "id": "8b37450c",
      "metadata": {
        "id": "8b37450c"
      },
      "source": [
        "Data on common factors, data cleaning and optimization"
      ]
    },
    {
      "cell_type": "code",
      "execution_count": 9,
      "id": "32a85d49",
      "metadata": {
        "colab": {
          "base_uri": "https://localhost:8080/"
        },
        "id": "32a85d49",
        "outputId": "c350d333-c853-4ff0-fa6f-7fba98aeb876"
      },
      "outputs": [
        {
          "output_type": "stream",
          "name": "stderr",
          "text": [
            "/usr/local/lib/python3.8/dist-packages/statsmodels/tsa/tsatools.py:142: FutureWarning: In a future version of pandas all arguments of concat except for the argument 'objs' will be keyword-only\n",
            "  x = pd.concat(x[::order], 1)\n"
          ]
        }
      ],
      "source": [
        "# convert index from yyy-mm-dd to yyy-mm\n",
        "data.index = data.index.strftime('%Y-%m')\n",
        "\n",
        "\n",
        "# %%\n",
        "# download zip folder in url and load file inside to csv\n",
        "url = 'https://mba.tuck.dartmouth.edu/pages/faculty/ken.french/ftp/F-F_Research_Data_5_Factors_2x3_CSV.zip'\n",
        "import requests\n",
        "import zipfile\n",
        "import io\n",
        "r = requests.get(url)\n",
        "z = zipfile.ZipFile(io.BytesIO(r.content))\n",
        "z.extractall()\n",
        "\n",
        "# %%\n",
        "# read the csv file starting from the 4th row and finishing in the first empty row found\n",
        "factors = pd.read_csv('F-F_Research_Data_5_Factors_2x3.csv', skiprows=3, nrows=712, index_col=0, parse_dates=True)\n",
        "\n",
        "# %%\n",
        "# factors' index is yyymm format, convert it to yyyy-mm\n",
        "factors.index = factors.index.astype(str).str[:-2] + '-' + factors.index.astype(str).str[-2:]\n",
        "# rename index to Date\n",
        "factors.index.name = 'Date'\n",
        "\n",
        "# convert the date of log_returns to yyyy-mm\n",
        "log_returns.index = log_returns.index.strftime('%Y-%m')\n",
        "\n",
        "# merge factors and log_returns on Date\n",
        "df = pd.merge(factors, log_returns, on='Date')\n",
        "\n",
        "# import sm\n",
        "import statsmodels.api as sm\n",
        "# drop NaN values\n",
        "df = df.dropna()\n",
        "# for each ticker, compute the beta with respect to the 5 factors\n",
        "B = np.zeros((len(tickers), 5))\n",
        "for i, t in enumerate(tickers):\n",
        "    # compute the regression\n",
        "    X = df[['Mkt-RF', 'SMB', 'HML', 'RMW', 'CMA']]\n",
        "    X = X/100\n",
        "    y = df[t]\n",
        "    X = sm.add_constant(X)\n",
        "    model = sm.OLS(y, X).fit()\n",
        "    # store the betas\n",
        "    B[i, :] = model.params[1:]\n",
        "    \n",
        "from scipy.optimize import minimize\n",
        "from scipy.optimize import NonlinearConstraint\n",
        "\n",
        "# sigma and mu to numpy\n",
        "sigma = sigma.to_numpy()\n",
        "mu = mu.to_numpy()\n",
        "\n",
        "\n",
        "# correlation matrix \n",
        "C = sigma / np.sqrt(np.diag(sigma)) / np.sqrt(np.diag(sigma)).reshape(-1, 1)\n",
        "\n",
        "\n",
        "      \n",
        "        \n"
      ]
    },
    {
      "cell_type": "code",
      "source": [
        "\n",
        "# for an alpha of 0.05 compute the inverse of the cumulative distribution function of a standard normal\n",
        "alpha = 0.05\n",
        "# import norm\n",
        "from scipy.stats import norm\n",
        "eta = -norm.ppf(alpha)\n",
        "\n",
        "# V is eta times the square root of the diagonal of sigma\n",
        "V = eta * np.sqrt(np.diag(np.diag(sigma)))\n",
        "\n",
        "N = len(tickers)\n",
        "# We include all decision variables in a single vector x\n",
        "# first N elements are the weights of the portfolio\n",
        "# second N elements are the weights of the long positions\n",
        "# third N elements are the weights of the short positions\n",
        "# last element is cash\n",
        "\n",
        "# objective function and Parameters\n",
        "gamma = 2\n",
        "L = 1.5\n",
        "beta_bar = np.array([0.0, 0.0, 0.0, 0.0, 0.0])\n",
        "beta_ub = np.array([1.0, 1.0, 1.0, 1.0, 1.0])*0.5\n",
        "beta_lb = np.array([1.0, 1.0, 1.0, 1.0, 1.0])*0.5\n",
        "u_b = 0.2 # upper bound for theta\n",
        "l_b = -0.2 # lower bound for theta\n",
        "VaR_max = 1.9 # large loss in terms of % of portfolio value\n",
        "U = lambda x : 1000*(x[:N].T @ mu \\\n",
        "    - 0.5*gamma *x[:N].T @ sigma @ x[:N])\n",
        "\n",
        "# example, equally weighted portfolio\n",
        "x_test = np.concatenate((np.ones(N)/N, np.ones(N)/N, np.zeros(N), [0]))\n",
        "U(x_test)\n"
      ],
      "metadata": {
        "colab": {
          "base_uri": "https://localhost:8080/"
        },
        "id": "h4acdbc7KtrM",
        "outputId": "fe0363da-c1e9-47a3-f4cf-6ad2d2d2d3f1"
      },
      "id": "h4acdbc7KtrM",
      "execution_count": 12,
      "outputs": [
        {
          "output_type": "execute_result",
          "data": {
            "text/plain": [
              "9.033200980995433"
            ]
          },
          "metadata": {},
          "execution_count": 12
        }
      ]
    },
    {
      "cell_type": "code",
      "source": [
        "#%% \n",
        "constraints = []\n",
        "# Sum of weights = 1\n",
        "constraints.append(NonlinearConstraint(\\\n",
        "    lambda x: np.sum(x[:N]) + x[-1], 1, 1))\n",
        "\n",
        "# theta is expressed as the long minus the short position\n",
        "\n",
        "constraints.append(NonlinearConstraint(\\\n",
        "    lambda x: x[:N] - (x[N:2*N]- x[2*N:3*N]), 0, 0))\n",
        "\n",
        "# the long and short positions are non-negative\n",
        "\n",
        "constraints.append(NonlinearConstraint(\\\n",
        "    lambda x: x[N:2*N], 0, np.inf))\n",
        "    \n",
        "\n",
        "constraints.append(NonlinearConstraint(\\\n",
        "    lambda x: x[2*N:3*N], 0, np.inf))\n",
        "\n",
        "# positive cash\n",
        "\n",
        "constraints.append(NonlinearConstraint(\\\n",
        "    lambda x: x[-1], 0, np.inf))\n",
        "\n",
        "constraints.append(NonlinearConstraint(\\\n",
        "        lambda x: x[:N], l_b*np.ones(N), u_b*np.ones(N)))\n",
        "\n",
        "# leverage constraint\n",
        "constraints.append(NonlinearConstraint(\\\n",
        "    lambda x: np.sum(x[N:2*N]) + np.sum(x[2*N:3*N]), 0, L))\n",
        "\n",
        "# Factor exposure constraint\n",
        "constraints.append(NonlinearConstraint(\\\n",
        "    lambda x: B.T @ x[:N], beta_bar-beta_lb, beta_bar+beta_ub))\n",
        "\n",
        "# VaR constraint\n",
        "constraints.append(NonlinearConstraint(\\\n",
        "    lambda x: np.sqrt(x[:N].T @ V @ C @ V @ x[:N]), 0, VaR_max))\n",
        "\n",
        "solution = minimize(\n",
        "    # objective function\n",
        "    lambda x : -U(x), \n",
        "    # initial value\n",
        "    #x0 = np.concatenate((np.ones(N)/N, np.ones(N)/N, np.zeros(N), [0])),\n",
        "    x0 = np.zeros(3*N+1),\n",
        "    # constraints\n",
        "    constraints = constraints)\n",
        "\n",
        "if solution.success:\n",
        "  # print the results of the optimization nicely\n",
        "  x = solution.x\n",
        "  print('Optimal weights')\n",
        "  print(\"----------------\")\n",
        "  print(\"Long positions\")\n",
        "  for i, t in enumerate(tickers):\n",
        "      if x[N+i] > 1e-5:\n",
        "          # print the ticker and the weight rounding decimals\n",
        "          print(t, round(x[N+i], 3))\n",
        "\n",
        "  print(\"----------------\")\n",
        "  print(\"Short positions\")\n",
        "  for i, t in enumerate(tickers):\n",
        "      if x[2*N+i] > 1e-5:\n",
        "          # print the ticker and the weight rounding decimals\n",
        "          print(t, round(x[2*N+i], 3))\n",
        "  print(\"----------------\")\n",
        "  print(\"Cash\", round(x[-1], 3))\n",
        "  print(\"----------------\")\n",
        "  # what is the exposure to the factors?\n",
        "  print(\"Exposure to the factors\")\n",
        "  print(\"-----------------------\")\n",
        "  exp = B.T @ x[:N]\n",
        "  print(\"Mkt-RF\", round(exp[0], 3))\n",
        "  print(\"SMB\", round(exp[1], 3))\n",
        "  print(\"HML\", round(exp[2], 3))\n",
        "  print(\"RMW\", round(exp[3], 3))\n",
        "  print(\"CMA\", round(exp[4], 3))\n",
        "\n",
        "  # compute the VaR of the portfolio\n",
        "  VaR = np.sqrt(x[:N].T @ V @ C @ V @ x[:N])\n",
        "  # print results\n",
        "  print(\"VaR\", round(VaR, 3)) \n",
        "else:\n",
        "  print(\"Optimal Solution Not Found\")\n"
      ],
      "metadata": {
        "colab": {
          "base_uri": "https://localhost:8080/"
        },
        "id": "OaWO5jKfhgd7",
        "outputId": "d7e5814e-bc32-46f0-bfcc-525440ab3131"
      },
      "id": "OaWO5jKfhgd7",
      "execution_count": 13,
      "outputs": [
        {
          "output_type": "stream",
          "name": "stdout",
          "text": [
            "Optimal weights\n",
            "----------------\n",
            "Long positions\n",
            "AAPL 0.085\n",
            "MA 0.019\n",
            "UNH 0.2\n",
            "HD 0.2\n",
            "TSLA 0.112\n",
            "PM 0.2\n",
            "LOW 0.2\n",
            "----------------\n",
            "Short positions\n",
            "FB 0.2\n",
            "INTC 0.17\n",
            "NVDA 0.031\n",
            "PYPL 0.023\n",
            "BA 0.023\n",
            "GME 0.037\n",
            "----------------\n",
            "Cash 0.467\n",
            "----------------\n",
            "Exposure to the factors\n",
            "-----------------------\n",
            "Mkt-RF 0.5\n",
            "SMB -0.5\n",
            "HML -0.5\n",
            "RMW 0.396\n",
            "CMA 0.082\n",
            "VaR 0.101\n"
          ]
        }
      ]
    },
    {
      "cell_type": "markdown",
      "source": [
        "# MIP Formulation\n",
        "\n",
        "- Assume that now we require to have at least $n_s$ short stocks, we will see how we can obtain the optimal solution using a free version of the comercial solver Gurobi\n"
      ],
      "metadata": {
        "id": "lG8YXvGOOn1N"
      },
      "id": "lG8YXvGOOn1N"
    },
    {
      "cell_type": "code",
      "source": [
        "!pip install -i https://pypi.gurobi.com gurobipy"
      ],
      "metadata": {
        "colab": {
          "base_uri": "https://localhost:8080/"
        },
        "id": "4I05XYFUPDbO",
        "outputId": "b315788d-5d17-48d0-a2c5-f664f15bfdcb"
      },
      "id": "4I05XYFUPDbO",
      "execution_count": 14,
      "outputs": [
        {
          "output_type": "stream",
          "name": "stdout",
          "text": [
            "Looking in indexes: https://pypi.gurobi.com, https://us-python.pkg.dev/colab-wheels/public/simple/\n",
            "Collecting gurobipy\n",
            "  Downloading gurobipy-10.0.0-cp38-cp38-manylinux2014_x86_64.whl (12.8 MB)\n",
            "\u001b[K     |████████████████████████████████| 12.8 MB 4.5 MB/s \n",
            "\u001b[?25hInstalling collected packages: gurobipy\n",
            "Successfully installed gurobipy-10.0.0\n"
          ]
        }
      ]
    },
    {
      "cell_type": "code",
      "source": [
        "import gurobipy as gp\n",
        "from gurobipy import GRB\n",
        "\n",
        "# the free license has a limit on variables, we will use only 10 stocks, and require minimum 2 short stocks, we will also remove the factor constraint as it is the \"hardest\"\n",
        "# we will use the first 30 stocks\n",
        "\n",
        "N = 30\n",
        "ns = 2\n",
        "\n",
        "M = 1E9\n",
        "try:\n",
        "    indices = range(N)\n",
        "    tick_names = tickers[:N]\n",
        "    # Create a new model\n",
        "    model = gp.Model(\"Risk Management\")\n",
        "\n",
        "    model.params.NonConvex = 2\n",
        "\n",
        "    # Create variables\n",
        "    x     = model.addVars(indices, vtype=GRB.BINARY, name=\"x\")\n",
        "    x_pos = model.addVars(indices, vtype=GRB.BINARY, name=\"x_pos\")\n",
        "    x_neg = model.addVars(indices, vtype=GRB.BINARY, name=\"x_neg\")\n",
        "\n",
        "    theta      = model.addVars(indices, lb = l_b, ub = u_b)\n",
        "    theta_pos  = model.addVars(indices, lb = 0,   ub = u_b)\n",
        "    theta_neg  = model.addVars(indices, lb = 0,   ub = -l_b)\n",
        "\n",
        "    theta_cash = model.addVar(lb = 0,   ub = float('inf'), name = \"cash\")\n",
        "\n",
        "    # Budget constraint\n",
        "    model.addConstr(theta.sum()+theta_cash == 1.0)\n",
        "\n",
        "    # Long-Short definitions\n",
        "    for i in range(N):\n",
        "        model.addConstr(theta[i]                    == theta_pos[i] - theta_neg[i])\n",
        "        model.addConstr(x[i]                        == x_pos[i]     + x_neg[i])\n",
        "        model.addConstr(M*theta_pos[i]              >= x_pos[i])\n",
        "        model.addConstr(theta_pos[i]                <= M*x_pos[i])\n",
        "        model.addConstr(M*theta_neg[i]              >= x_neg[i])\n",
        "        model.addConstr(theta_neg[i]                <= M*x_neg[i])\n",
        "\n",
        "    #Leverage\n",
        "    model.addConstr(theta_pos.sum() + theta_neg.sum() <= L)\n",
        "\n",
        "    # VaR \n",
        "    V_C_V = V @ C @ V\n",
        "\n",
        "    #model.addConstr(gp.quicksum(theta[i]*V_C_V[i,j]*theta[j] for i in range(N) for j in range(N)) <= VaR_max**2)\n",
        "\n",
        "    # minimum 5 short sales\n",
        "\n",
        "    model.addConstr(gp.quicksum(x_neg[i] for i in range(N))>=ns)\n",
        "\n",
        "    # Set objective\n",
        "    model.setObjective(gp.quicksum(theta[i]*mu[i] for i in range(N)) - 0.5*gamma*gp.quicksum(theta[i]*sigma[i,j]*theta[j] for i in range(N) for j in range(N)), GRB.MAXIMIZE)\n",
        "\n",
        "    # Optimize model\n",
        "    model.optimize()\n",
        "\n",
        "    vars = model.getVars()\n",
        "\n",
        "    vars = vars[3*N:4*N] # first 3*N vars are the binary ones\n",
        "\n",
        "    for (name, var) in zip(tick_names, vars):\n",
        "      print(f\"Ticker: {name} - Position: {round(var.X*100,2)} %\")\n",
        "    \n",
        "    #for v in model.getVars():\n",
        "    #    print('%s %g' % (v.VarName, v.X))\n",
        "\n",
        "    print('Obj: %g' % model.ObjVal)\n",
        "\n",
        "except gp.GurobiError as e:\n",
        "    print('Error code ' + str(e.errno) + ': ' + str(e))\n",
        "\n",
        "except AttributeError:\n",
        "    print('Encountered an attribute error')"
      ],
      "metadata": {
        "colab": {
          "base_uri": "https://localhost:8080/"
        },
        "id": "9oZMads4PJD8",
        "outputId": "20dab7ed-de95-4dbd-c26b-db95b589557e"
      },
      "id": "9oZMads4PJD8",
      "execution_count": 15,
      "outputs": [
        {
          "output_type": "stream",
          "name": "stdout",
          "text": [
            "Restricted license - for non-production use only - expires 2024-10-28\n",
            "Set parameter NonConvex to value 2\n",
            "Gurobi Optimizer version 10.0.0 build v10.0.0rc2 (linux64)\n",
            "\n",
            "CPU model: Intel(R) Xeon(R) CPU @ 2.20GHz, instruction set [SSE2|AVX|AVX2]\n",
            "Thread count: 1 physical cores, 2 logical processors, using up to 2 threads\n",
            "\n",
            "Optimize a model with 183 rows, 181 columns and 541 nonzeros\n",
            "Model fingerprint: 0x3c90a43e\n",
            "Model has 465 quadratic objective terms\n",
            "Variable types: 91 continuous, 90 integer (90 binary)\n",
            "Coefficient statistics:\n",
            "  Matrix range     [1e+00, 1e+09]\n",
            "  Objective range  [5e-03, 9e-02]\n",
            "  QObjective range [2e-04, 1e-01]\n",
            "  Bounds range     [2e-01, 1e+00]\n",
            "  RHS range        [1e+00, 2e+00]\n",
            "Warning: Model contains large matrix coefficients\n",
            "         Consider reformulating model or setting NumericFocus parameter\n",
            "         to avoid numerical issues.\n",
            "Found heuristic solution: objective -0.0062918\n",
            "Presolve removed 30 rows and 61 columns\n",
            "Presolve time: 0.05s\n",
            "Presolved: 1024 rows, 586 columns, 3556 nonzeros\n",
            "Presolved model has 30 quadratic constraint(s)\n",
            "Presolved model has 435 bilinear constraint(s)\n",
            "Variable types: 526 continuous, 60 integer (60 binary)\n",
            "\n",
            "Root relaxation: objective 6.949539e-02, 981 iterations, 0.06 seconds (0.02 work units)\n",
            "\n",
            "    Nodes    |    Current Node    |     Objective Bounds      |     Work\n",
            " Expl Unexpl |  Obj  Depth IntInf | Incumbent    BestBd   Gap | It/Node Time\n",
            "\n",
            "     0     0    0.06950    0  351   -0.00629    0.06950  1205%     -    0s\n",
            "     0     0    0.06052    0  374   -0.00629    0.06052  1062%     -    0s\n",
            "     0     0    0.03992    0  264   -0.00629    0.03992   734%     -    2s\n",
            "     0     0    0.03915    0  285   -0.00629    0.03915   722%     -    2s\n",
            "     0     0    0.03722    0  274   -0.00629    0.03722   692%     -    3s\n",
            "H    0     0                       0.0292798    0.03722  27.1%     -    3s\n",
            "     0     0    0.03711    0  252    0.02928    0.03711  26.7%     -    3s\n",
            "     0     0    0.03608    0  287    0.02928    0.03608  23.2%     -    4s\n",
            "     0     0    0.03592    0  284    0.02928    0.03592  22.7%     -    5s\n",
            "     0     0    0.03553    0  215    0.02928    0.03553  21.3%     -    7s\n",
            "     0     0    0.03546    0  248    0.02928    0.03546  21.1%     -    7s\n",
            "     0     0    0.03524    0  219    0.02928    0.03524  20.4%     -    8s\n",
            "     0     0    0.03509    0  249    0.02928    0.03509  19.8%     -    8s\n",
            "     0     0    0.03482    0  244    0.02928    0.03482  18.9%     -    8s\n",
            "     0     0    0.03482    0  244    0.02928    0.03482  18.9%     -    8s\n",
            "H    0     0                       0.0318974    0.03482  9.16%     -    8s\n",
            "H    0     0                       0.0322761    0.03482  7.88%     -    9s\n",
            "     0     2    0.03482    0  244    0.03228    0.03482  7.88%     -    9s\n",
            "     5     7    0.03447    3  224    0.03228    0.03482  7.88%   440   10s\n",
            "    89    85    0.03339   11  242    0.03228    0.03468  7.45%   631   15s\n",
            "   212   182    0.03410    8  237    0.03228    0.03447  6.78%   568   20s\n",
            "   256   225    0.03279   16    6    0.03228    0.03447  6.78%   680   25s\n",
            "   269   234    0.03238   13    5    0.03228    0.03238  0.33%   647   30s\n",
            "   282   242    0.03229    5    0    0.03228    0.03229  0.05%   617   35s\n",
            "   288   248    0.03229    7    6    0.03228    0.03229  0.05%   748   41s\n",
            "   304   259    0.03229   20    2    0.03228    0.03229  0.05%   709   46s\n",
            "H  307   248                       0.0322776    0.03229  0.05%   730   48s\n",
            "   315   254    0.03229   18    6    0.03228    0.03229  0.05%   717   51s\n",
            "H  320   244                       0.0322776    0.03229  0.05%   706   52s\n",
            "   605   276    0.03229   55  170    0.03228    0.03229  0.05%   487   55s\n",
            "  1073   210    0.03229   58  152    0.03228    0.03229  0.05%   390   60s\n",
            "* 1500   315              63       0.0322776    0.03229  0.05%   344   64s\n",
            "  1566   329    0.03229   58  208    0.03228    0.03229  0.05%   342   65s\n",
            "H 1569   327                       0.0322776    0.03229  0.05%   342   65s\n",
            "  2056   388    0.03229   56  189    0.03228    0.03229  0.05%   318   70s\n",
            "  2552   401    0.03229   56  190    0.03228    0.03229  0.05%   304   75s\n",
            "* 2698   420              63       0.0322776    0.03229  0.05%   298   76s\n",
            "H 2842   423                       0.0322776    0.03229  0.05%   292   77s\n",
            "  3087   435    0.03228   61   69    0.03228    0.03229  0.05%   289   80s\n",
            "* 3535   480              63       0.0322776    0.03229  0.05%   283   84s\n",
            "  3580   481     cutoff   56         0.03228    0.03229  0.05%   283   85s\n",
            "H 3685   480                       0.0322776    0.03229  0.05%   283   86s\n",
            "  4080   488    0.03229   58  171    0.03228    0.03229  0.05%   278   90s\n",
            "* 4216   487              69       0.0322777    0.03229  0.05%   274   91s\n",
            "  4679   484    0.03229   58  153    0.03228    0.03229  0.05%   267   95s\n",
            "  5214   443    0.03228   61   55    0.03228    0.03229  0.05%   263  100s\n",
            "  5854   438    0.03228   62    4    0.03228    0.03229  0.04%   252  105s\n",
            "H 5976   412                       0.0322777    0.03229  0.04%   252  106s\n",
            "H 6168   391                       0.0322777    0.03229  0.03%   251  107s\n",
            "  6375   382    0.03228   60  136    0.03228    0.03229  0.03%   247  110s\n",
            "  6959   276    0.03228   61   63    0.03228    0.03228  0.01%   242  115s\n",
            "\n",
            "Cutting planes:\n",
            "  RLT: 9\n",
            "  PSD: 10\n",
            "\n",
            "Explored 7322 nodes (1763515 simplex iterations) in 117.78 seconds (70.80 work units)\n",
            "Thread count was 2 (of 2 available processors)\n",
            "\n",
            "Solution count 10: 0.0322777 0.0322776 0.0322776 ... -0.00629181\n",
            "\n",
            "Optimal solution found (tolerance 1.00e-04)\n",
            "Best objective 3.227762394486e-02, best bound 3.228086103579e-02, gap 0.0100%\n",
            "Ticker: AAPL - Position: 20.0 %\n",
            "Ticker: MSFT - Position: 0.0 %\n",
            "Ticker: AMZN - Position: 0.0 %\n",
            "Ticker: GOOGL - Position: 0.0 %\n",
            "Ticker: FB - Position: -20.0 %\n",
            "Ticker: BRK-B - Position: 0.0 %\n",
            "Ticker: JPM - Position: 0.0 %\n",
            "Ticker: JNJ - Position: 0.0 %\n",
            "Ticker: V - Position: 20.0 %\n",
            "Ticker: PG - Position: 0.0 %\n",
            "Ticker: MA - Position: 20.0 %\n",
            "Ticker: UNH - Position: 20.0 %\n",
            "Ticker: HD - Position: 20.0 %\n",
            "Ticker: VZ - Position: 0.0 %\n",
            "Ticker: INTC - Position: -1.2 %\n",
            "Ticker: DIS - Position: 0.0 %\n",
            "Ticker: CMCSA - Position: 0.0 %\n",
            "Ticker: PFE - Position: 0.0 %\n",
            "Ticker: ADBE - Position: 0.0 %\n",
            "Ticker: KO - Position: 0.0 %\n",
            "Ticker: T - Position: 0.0 %\n",
            "Ticker: NFLX - Position: 14.15 %\n",
            "Ticker: PEP - Position: 0.0 %\n",
            "Ticker: NVDA - Position: 0.0 %\n",
            "Ticker: ABT - Position: 0.0 %\n",
            "Ticker: PYPL - Position: -3.8 %\n",
            "Ticker: MRK - Position: 0.0 %\n",
            "Ticker: CRM - Position: 0.0 %\n",
            "Ticker: CSCO - Position: 0.0 %\n",
            "Ticker: TMO - Position: 10.85 %\n",
            "Obj: 0.0322776\n"
          ]
        }
      ]
    },
    {
      "cell_type": "code",
      "source": [],
      "metadata": {
        "colab": {
          "base_uri": "https://localhost:8080/"
        },
        "id": "lfWYS5hIPwSj",
        "outputId": "6abcd6f2-4a86-4ca1-8dd1-e77d5149ea4b"
      },
      "id": "lfWYS5hIPwSj",
      "execution_count": null,
      "outputs": [
        {
          "output_type": "stream",
          "name": "stdout",
          "text": [
            "Help on method optimize in module gurobipy:\n",
            "\n",
            "optimize(callback=None) method of gurobipy.Model instance\n",
            "    ROUTINE:\n",
            "      optimize()\n",
            "    \n",
            "    PURPOSE:\n",
            "      Optimize the model.\n",
            "    \n",
            "    ARGUMENTS:\n",
            "      callback (function, optional): Callback function which takes two\n",
            "               arguments, model and where.\n",
            "    \n",
            "    RETURN VALUE:\n",
            "      None.\n",
            "    \n",
            "    EXAMPLE:\n",
            "      model.optimize()\n",
            "    \n",
            "    NOTES:\n",
            "      The algorithm used to optimize the model depends on the model type and\n",
            "      on the parameter settings.  A MIP model will always be optimized using\n",
            "      the branch-and-cut algorithm.  A continuous model will be optimized\n",
            "      using the dual simplex algorithm by default; the Method parameter\n",
            "      can be used to choose a different algorithm.\n",
            "\n"
          ]
        }
      ]
    },
    {
      "cell_type": "code",
      "source": [],
      "metadata": {
        "id": "JouBJeA3cOF2"
      },
      "id": "JouBJeA3cOF2",
      "execution_count": null,
      "outputs": []
    }
  ],
  "metadata": {
    "kernelspec": {
      "display_name": "Python 3 (ipykernel)",
      "language": "python",
      "name": "python3"
    },
    "language_info": {
      "codemirror_mode": {
        "name": "ipython",
        "version": 3
      },
      "file_extension": ".py",
      "mimetype": "text/x-python",
      "name": "python",
      "nbconvert_exporter": "python",
      "pygments_lexer": "ipython3",
      "version": "3.9.13"
    },
    "colab": {
      "provenance": [],
      "include_colab_link": true
    }
  },
  "nbformat": 4,
  "nbformat_minor": 5
}