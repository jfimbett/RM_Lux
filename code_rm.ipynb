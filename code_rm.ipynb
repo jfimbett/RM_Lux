{
  "cells": [
    {
      "cell_type": "markdown",
      "id": "47c3be2b",
      "metadata": {
        "id": "47c3be2b"
      },
      "source": [
        "# Supporting Jupyter notebook\n",
        "\n",
        "## Risk Management for Financial Institutions - University of Luxembourg\n",
        "\n",
        "### Juan F. Imbet Ph.D. Paris Dauphine - PSL\n"
      ]
    },
    {
      "cell_type": "markdown",
      "id": "3afa12e8",
      "metadata": {
        "id": "3afa12e8"
      },
      "source": [
        "Visualizing the Value at Risk"
      ]
    },
    {
      "cell_type": "code",
      "execution_count": 1,
      "id": "3ea22006",
      "metadata": {
        "id": "3ea22006",
        "outputId": "5d9f67ee-40ed-4a7d-9e4c-47cd43333eb4",
        "colab": {
          "base_uri": "https://localhost:8080/",
          "height": 295
        }
      },
      "outputs": [
        {
          "output_type": "display_data",
          "data": {
            "text/plain": [
              "<Figure size 432x288 with 1 Axes>"
            ],
            "image/png": "[encoded data removed]"
          },
          "metadata": {
            "needs_background": "light"
          }
        }
      ],
      "source": [
        "#%%\n",
        "import numpy as np\n",
        "from matplotlib import pyplot as plt\n",
        "\n",
        "# show in a distribution the VaR of a portfolio\n",
        "def showVaR(portfolio, confidence):\n",
        "    # calculate the VaR of the portfolio\n",
        "    VaR = np.percentile(portfolio, confidence)\n",
        "    # plot the VaR\n",
        "    plt.hist(portfolio, bins=50)\n",
        "    plt.axvline(VaR, color='r', linestyle='dashed', linewidth=2)\n",
        "    # add title and axis names\n",
        "    plt.title('Historical based VaR')\n",
        "    plt.xlabel('Portfolio Return')\n",
        "    plt.ylabel('Frequency')\n",
        "    plt.show()\n",
        "    \n",
        "# example of showVaR\n",
        "portfolio = np.random.normal(0, 1, 1000)\n",
        "showVaR(portfolio, 5)\n",
        "# %%\n"
      ]
    },
    {
      "cell_type": "markdown",
      "id": "09dcd846",
      "metadata": {
        "id": "09dcd846"
      },
      "source": [
        "## Portfolio Allocation Example"
      ]
    },
    {
      "cell_type": "markdown",
      "id": "e43f4f78",
      "metadata": {
        "id": "e43f4f78"
      },
      "source": [
        "Load data"
      ]
    },
    {
      "cell_type": "code",
      "execution_count": null,
      "id": "2fba5e06",
      "metadata": {
        "id": "2fba5e06"
      },
      "outputs": [],
      "source": [
        "import pandas as pd\n",
        "from pandas_datareader import data as wb\n",
        "\n",
        "# load historical prices for the 50 largest US stocks\n",
        "tickers = ['AAPL', 'MSFT', 'AMZN', 'GOOGL', 'FB', \n",
        "           'BRK-B', 'JPM', 'JNJ', 'V', 'PG', \n",
        "           'MA', 'UNH', 'HD', 'VZ', 'INTC', \n",
        "           'DIS', 'CMCSA', 'PFE', 'ADBE', 'KO', \n",
        "           'T', 'NFLX', 'PEP', 'NVDA', 'ABT', \n",
        "           'PYPL', 'MRK', 'CRM', 'CSCO', 'TMO', \n",
        "           'AVGO', 'ORCL', 'COST', 'TSLA', 'ACN', \n",
        "           'XOM', 'BAC', 'CVX', 'WFC', 'MCD', \n",
        "           'QCOM', 'MDT', 'WMT', 'PM', 'LIN', \n",
        "           'UNP', 'UPS', 'LOW', 'BA', 'GME']\n",
        "data = pd.DataFrame()\n",
        "for t in tickers:\n",
        "    data[t] = wb.DataReader(t, data_source='yahoo', start='2010-1-1')['Adj Close']\n",
        "    \n",
        "# calculate the log returns\n",
        "log_returns = np.log(1 + data.pct_change())\n",
        "# compute expected returns and covariance\n",
        "mu = log_returns.mean() * 250\n",
        "sigma = log_returns.cov() * 250\n",
        "\n"
      ]
    },
    {
      "cell_type": "markdown",
      "id": "8b37450c",
      "metadata": {
        "id": "8b37450c"
      },
      "source": [
        "Data on common factors"
      ]
    },
    {
      "cell_type": "code",
      "execution_count": null,
      "id": "32a85d49",
      "metadata": {
        "id": "32a85d49"
      },
      "outputs": [],
      "source": []
    }
  ],
  "metadata": {
    "kernelspec": {
      "display_name": "Python 3 (ipykernel)",
      "language": "python",
      "name": "python3"
    },
    "language_info": {
      "codemirror_mode": {
        "name": "ipython",
        "version": 3
      },
      "file_extension": ".py",
      "mimetype": "text/x-python",
      "name": "python",
      "nbconvert_exporter": "python",
      "pygments_lexer": "ipython3",
      "version": "3.9.13"
    },
    "colab": {
      "provenance": []
    }
  },
  "nbformat": 4,
  "nbformat_minor": 5
}